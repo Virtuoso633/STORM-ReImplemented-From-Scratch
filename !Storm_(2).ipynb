{
  "cells": [
    {
      "cell_type": "markdown",
      "metadata": {
        "id": "view-in-github",
        "colab_type": "text"
      },
      "source": [
        "<a href=\"https://colab.research.google.com/github/Virtuoso633/STORM-ReImplemented-From-Scratch/blob/main/!Storm_(2).ipynb\" target=\"_parent\"><img src=\"https://colab.research.google.com/assets/colab-badge.svg\" alt=\"Open In Colab\"/></a>"
      ]
    },
    {
      "cell_type": "markdown",
      "metadata": {
        "id": "2MXBbqIyLmxX"
      },
      "source": [
        "#Setup"
      ]
    },
    {
      "cell_type": "markdown",
      "metadata": {
        "id": "Gsakb16TLjuT"
      },
      "source": [
        "First, let's install the required packages and set our API keys"
      ]
    },
    {
      "cell_type": "code",
      "execution_count": null,
      "metadata": {
        "id": "N0-sjXEZ_1LE"
      },
      "outputs": [],
      "source": [
        "%%capture --no-stderr\n",
        "%pip install -U langchain_community langchain_groq langgraph wikipedia duckduckgo-search tavily-python\n"
      ]
    },
    {
      "cell_type": "code",
      "source": [
        "%pip install tiktoken tenacity"
      ],
      "metadata": {
        "colab": {
          "base_uri": "https://localhost:8080/"
        },
        "id": "NZxCxbfBHaUs",
        "outputId": "87d9ddb3-17bb-4a8c-fe36-2255ef9d47d4"
      },
      "execution_count": null,
      "outputs": [
        {
          "output_type": "stream",
          "name": "stdout",
          "text": [
            "Requirement already satisfied: tiktoken in /usr/local/lib/python3.11/dist-packages (0.9.0)\n",
            "Requirement already satisfied: tenacity in /usr/local/lib/python3.11/dist-packages (9.0.0)\n",
            "Requirement already satisfied: regex>=2022.1.18 in /usr/local/lib/python3.11/dist-packages (from tiktoken) (2024.11.6)\n",
            "Requirement already satisfied: requests>=2.26.0 in /usr/local/lib/python3.11/dist-packages (from tiktoken) (2.32.3)\n",
            "Requirement already satisfied: charset-normalizer<4,>=2 in /usr/local/lib/python3.11/dist-packages (from requests>=2.26.0->tiktoken) (3.4.1)\n",
            "Requirement already satisfied: idna<4,>=2.5 in /usr/local/lib/python3.11/dist-packages (from requests>=2.26.0->tiktoken) (3.10)\n",
            "Requirement already satisfied: urllib3<3,>=1.21.1 in /usr/local/lib/python3.11/dist-packages (from requests>=2.26.0->tiktoken) (2.3.0)\n",
            "Requirement already satisfied: certifi>=2017.4.17 in /usr/local/lib/python3.11/dist-packages (from requests>=2.26.0->tiktoken) (2025.1.31)\n"
          ]
        }
      ]
    },
    {
      "cell_type": "code",
      "execution_count": null,
      "metadata": {
        "id": "1AwMSZl_LgeB"
      },
      "outputs": [],
      "source": [
        "import os\n",
        "from google.colab import userdata\n",
        "\n",
        "# Set API keys securely using Colab's userdata feature\n",
        "os.environ[\"GROQ_API_KEY\"] = userdata.get(\"GROQ_API_KEY\")\n",
        "os.environ[\"TAVILY_API_KEY\"] = userdata.get(\"TAVILY_API_KEY\")\n",
        "\n",
        "# Optional LangSmith setup for observability\n",
        "os.environ[\"LANGCHAIN_TRACING_V2\"] = \"true\"\n",
        "os.environ[\"LANGCHAIN_PROJECT\"] = \"STORM-Implementation-Groq\"\n",
        "os.environ[\"LANGCHAIN_API_KEY\"] = userdata.get(\"LANGCHAIN_API_KEY\")\n"
      ]
    },
    {
      "cell_type": "markdown",
      "metadata": {
        "id": "dS8K7doCRcTk"
      },
      "source": [
        "#Select LLMs"
      ]
    },
    {
      "cell_type": "markdown",
      "metadata": {
        "id": "9oYY_oRSRaiE"
      },
      "source": [
        "\n",
        "We will have a faster LLM do most of the work, but a slower, long-context model to distill the conversations and write the final report."
      ]
    },
    {
      "cell_type": "code",
      "execution_count": null,
      "metadata": {
        "id": "3bEj-IjORNui"
      },
      "outputs": [],
      "source": [
        "from langchain_groq import ChatGroq\n",
        "\n",
        "# Use Llama 3 models from Groq\n",
        "fast_llm = ChatGroq(model_name=\"llama-3.1-8b-instant\", temperature=0.2, max_tokens=2000)\n",
        "long_context_llm = ChatGroq(model_name=\"llama-3.1-8b-instant\", max_tokens=2000)\n"
      ]
    },
    {
      "cell_type": "markdown",
      "metadata": {
        "id": "UBK7GyKhSsD5"
      },
      "source": [
        "#Generate Initial Outline"
      ]
    },
    {
      "cell_type": "markdown",
      "metadata": {
        "id": "vtkZ4S1fSpwh"
      },
      "source": [
        "\n",
        "* For many topics, your LLM may have an initial idea of the important and related topics. We can generate an initial outline to be refined after our research. Below, we will use our \"fast\" llm to generate the outline.\n",
        "\n",
        "* Using Pydantic with LangChain\n",
        "\n",
        "* This notebook uses Pydantic v2 BaseModel, which requires langchain-core >= 0.3. Using langchain-core < 0.3 will result in errors due to mixing of Pydantic v1 and v2 BaseModels."
      ]
    },
    {
      "cell_type": "code",
      "execution_count": null,
      "metadata": {
        "id": "ojF_9ajWRppe"
      },
      "outputs": [],
      "source": [
        "from typing import List, Optional\n",
        "from langchain_core.prompts import ChatPromptTemplate\n",
        "from pydantic import BaseModel, Field\n",
        "from langchain_groq import ChatGroq\n",
        "\n",
        "# Define the prompt template\n",
        "direct_gen_outline_prompt = ChatPromptTemplate.from_messages(\n",
        "    [\n",
        "        (\n",
        "            \"system\",\n",
        "            \"You are a Wikipedia writer. Write an outline for a Wikipedia page about a user-provided topic. Be comprehensive and specific.\",\n",
        "        ),\n",
        "        (\"user\", \"{topic}\"),\n",
        "    ]\n",
        ")\n",
        "\n",
        "# Define the Pydantic models\n",
        "class Subsection(BaseModel):\n",
        "    subsection_title: str = Field(..., title=\"Title of the subsection\")\n",
        "    description: str = Field(..., title=\"Content of the subsection\")\n",
        "\n",
        "    @property\n",
        "    def as_str(self) -> str:\n",
        "        return f\"### {self.subsection_title}\\n\\n{self.description}\".strip()\n",
        "\n",
        "\n",
        "class Section(BaseModel):\n",
        "    section_title: str = Field(..., title=\"Title of the section\")\n",
        "    description: str = Field(..., title=\"Content of the section\")\n",
        "    subsections: Optional[List[Subsection]] = Field(\n",
        "        default=None,\n",
        "        title=\"Titles and descriptions for each subsection of the Wikipedia page.\",\n",
        "    )\n",
        "\n",
        "    @property\n",
        "    def as_str(self) -> str:\n",
        "        subsections = \"\\n\\n\".join(\n",
        "            f\"### {subsection.subsection_title}\\n\\n{subsection.description}\"\n",
        "            for subsection in self.subsections or []\n",
        "        )\n",
        "        return f\"## {self.section_title}\\n\\n{self.description}\\n\\n{subsections}\".strip()\n",
        "\n",
        "    def __str__(self) -> str:\n",
        "        return self.as_str\n",
        "\n",
        "\n",
        "class Outline(BaseModel):\n",
        "    page_title: str = Field(..., title=\"Title of the Wikipedia page\")\n",
        "    sections: List[Section] = Field(\n",
        "        default_factory=list,\n",
        "        title=\"Titles and descriptions for each section of the Wikipedia page.\",\n",
        "    )\n",
        "\n",
        "    @property\n",
        "    def as_str(self) -> str:\n",
        "        sections_str = \"\\n\\n\".join(section.as_str for section in self.sections)\n",
        "        return f\"# {self.page_title}\\n\\n{sections_str}\".strip()\n",
        "\n",
        "    class Config:\n",
        "        json_encoders = {\n",
        "            Section: lambda s: s.as_str,\n",
        "            Subsection: lambda s: s.as_str,\n",
        "        }\n",
        "\n",
        "\n",
        "# Generate the outline\n",
        "generate_outline_direct = direct_gen_outline_prompt | fast_llm.with_structured_output(\n",
        "    Outline\n",
        ")\n"
      ]
    },
    {
      "cell_type": "code",
      "execution_count": null,
      "metadata": {
        "colab": {
          "base_uri": "https://localhost:8080/"
        },
        "id": "xsyJNzOlS8Zu",
        "outputId": "bba32034-1836-4d79-ecc0-d752e6d501ce"
      },
      "outputs": [
        {
          "output_type": "stream",
          "name": "stdout",
          "text": [
            "# Impact of million-plus token context window language models on Retrieval-Augmented Generation (RAG)\n",
            "\n",
            "## Introduction\n",
            "\n",
            "Introduction\n",
            "\n",
            "### Background on Retrieval-Augmented Generation (RAG)\n",
            "\n",
            "Background on RAG\n",
            "\n",
            "### Motivation for studying million-plus token context window language models\n",
            "\n",
            "Motivation for studying million-plus token context window language models\n",
            "\n",
            "### Outline of the page\n",
            "\n",
            "Outline of the page\n",
            "\n",
            "## Methodology\n",
            "\n",
            "Methodology\n",
            "\n",
            "### Overview of million-plus token context window language models\n",
            "\n",
            "Overview of million-plus token context window language models\n",
            "\n",
            "### Experimental setup for evaluating the impact of million-plus token context window language models on RAG\n",
            "\n",
            "Experimental setup for evaluating the impact of million-plus token context window language models on RAG\n",
            "\n",
            "### Evaluation metrics for assessing the impact of million-plus token context window language models on RAG\n",
            "\n",
            "Evaluation metrics for assessing the impact of million-plus token context window language models on RAG\n",
            "\n",
            "## Results\n",
            "\n",
            "Results\n",
            "\n",
            "### Effect of million-plus token context window language models on RAG performance\n",
            "\n",
            "Effect of million-plus token context window language models on RAG performance\n",
            "\n",
            "### Comparison of million-plus token context window language models with other language models\n",
            "\n",
            "Comparison of million-plus token context window language models with other language models\n",
            "\n",
            "### Analysis of the impact of million-plus token context window language models on RAG's ability to handle long-range dependencies\n",
            "\n",
            "Analysis of the impact of million-plus token context window language models on RAG's ability to handle long-range dependencies\n",
            "\n",
            "## Conclusion\n",
            "\n",
            "Conclusion\n",
            "\n",
            "### Summary of the impact of million-plus token context window language models on RAG\n",
            "\n",
            "Summary of the impact of million-plus token context window language models on RAG\n",
            "\n",
            "### Future directions for research on million-plus token context window language models and RAG\n",
            "\n",
            "Future directions for research on million-plus token context window language models and RAG\n"
          ]
        }
      ],
      "source": [
        "# Example topic\n",
        "example_topic = \"Impact of million-plus token context window language models on RAG\"\n",
        "\n",
        "# Generate the initial outline\n",
        "initial_outline = generate_outline_direct.invoke({\"topic\": example_topic})\n",
        "\n",
        "# Print the outline\n",
        "print(initial_outline.as_str)"
      ]
    },
    {
      "cell_type": "markdown",
      "metadata": {
        "id": "QVdOekkdTVPQ"
      },
      "source": [
        "# Expand Topics"
      ]
    },
    {
      "cell_type": "markdown",
      "metadata": {
        "id": "ikAaKevlTXxw"
      },
      "source": [
        "* While language models do store some Wikipedia-like knowledge in their parameters, you will get better results by incorporating relevant and recent information using a search engine.\n",
        "\n",
        "* We will start our search by generating a list of related topics, sourced from Wikipedia."
      ]
    },
    {
      "cell_type": "code",
      "execution_count": null,
      "metadata": {
        "id": "ifIAQjAkTUoN"
      },
      "outputs": [],
      "source": [
        "\n",
        "# Define the prompt template for generating related topics\n",
        "gen_related_topics_prompt = ChatPromptTemplate.from_template(\n",
        "    \"\"\"I'm writing a Wikipedia page for a topic mentioned below. Please identify and recommend some Wikipedia pages on closely related subjects. I'm looking for examples that provide insights into interesting aspects commonly associated with this topic, or examples that help me understand the typical content and structure included in Wikipedia pages for similar topics.\n",
        "\n",
        "Please list the as many subjects and urls as you can.\n",
        "\n",
        "Topic of interest: {topic}\n",
        "\"\"\"\n",
        ")\n",
        "\n",
        "# Define the Pydantic model for structured output\n",
        "class RelatedSubjects(BaseModel):\n",
        "    topics: List[str] = Field(\n",
        "        description=\"Comprehensive list of related subjects as background research.\",\n",
        "        max_items=15  # Limit the number of topics\n",
        "    )\n",
        "\n",
        "# Create the chain for topic expansion\n",
        "expand_chain = gen_related_topics_prompt | fast_llm.with_structured_output(\n",
        "    RelatedSubjects\n",
        ")\n"
      ]
    },
    {
      "cell_type": "code",
      "execution_count": null,
      "metadata": {
        "colab": {
          "base_uri": "https://localhost:8080/"
        },
        "id": "sEogT3vtUZ9O",
        "outputId": "b432fa95-13dc-4973-8e63-69be0f663835"
      },
      "outputs": [
        {
          "output_type": "execute_result",
          "data": {
            "text/plain": [
              "RelatedSubjects(topics=['Transformer architecture', 'Reinforcement learning from human feedback', 'RAG (Reformer-based Retrieval-Augmented Generator)', 'Context window', 'Token-based language models', 'Large language models', 'Reinforcement learning', 'Natural language processing', 'Language model architecture', 'Generative models', 'Retrieval-augmented generation', 'Reformer-based models', 'Contextualized language models', 'Language model training', 'Language model evaluation'])"
            ]
          },
          "metadata": {},
          "execution_count": 107
        }
      ],
      "source": [
        "related_subjects = await expand_chain.ainvoke({\"topic\": example_topic})\n",
        "related_subjects"
      ]
    },
    {
      "cell_type": "markdown",
      "metadata": {
        "id": "chf26ssdWRv8"
      },
      "source": [
        "#Generate Perspectives"
      ]
    },
    {
      "cell_type": "markdown",
      "metadata": {
        "id": "lxUidV-OWOWy"
      },
      "source": [
        "\n",
        "From these related subjects, we can select representative Wikipedia editors as \"subject matter experts\" with distinct backgrounds and affiliations. These will help distribute the search process to encourage a more well-rounded final report."
      ]
    },
    {
      "cell_type": "code",
      "execution_count": null,
      "metadata": {
        "id": "aaSoQiKxWNoZ"
      },
      "outputs": [],
      "source": [
        "from pydantic import BaseModel, Field\n",
        "from typing import List\n",
        "\n",
        "class Editor(BaseModel):\n",
        "    affiliation: str = Field(\n",
        "        description=\"Primary affiliation of the editor.\",\n",
        "    )\n",
        "    name: str = Field(\n",
        "        description=\"Name of the editor.\", pattern=r\"^[a-zA-Z0-9_\\-\\. ]{1,64}$\"\n",
        "    )\n",
        "    role: str = Field(\n",
        "        description=\"Role of the editor in the context of the topic.\",\n",
        "    )\n",
        "    description: str = Field(\n",
        "        description=\"Description of the editor's focus, concerns, and motives.\",\n",
        "    )\n",
        "\n",
        "    @property\n",
        "    def persona(self) -> str:\n",
        "        return f\"Name: {self.name}\\\\nRole: {self.role}\\\\nAffiliation: {self.affiliation}\\\\nDescription: {self.description}\\\\n\"\n",
        "\n",
        "class Perspectives(BaseModel):\n",
        "    editors: List[Editor] = Field(\n",
        "        description=\"Comprehensive list of editors with their roles and affiliations.\",\n",
        "        # Add a pydantic validation/restriction to be at most M editors\n",
        "    )\n"
      ]
    },
    {
      "cell_type": "code",
      "execution_count": null,
      "metadata": {
        "id": "YO4sS15tWr2e"
      },
      "outputs": [],
      "source": [
        "from langchain_core.prompts import ChatPromptTemplate\n",
        "from langchain_groq import ChatGroq\n",
        "\n",
        "# Initialize Groq model\n",
        "llm = ChatGroq(model_name=\"llama-3.1-8b-instant\", temperature=0.2, max_tokens=2000)\n",
        "\n",
        "gen_perspectives_prompt = ChatPromptTemplate.from_messages(\n",
        "    [\n",
        "        (\n",
        "            \"system\",\n",
        "            \"\"\"You need to select a diverse (and distinct) group of Wikipedia editors who will work together to create a comprehensive article on the topic. Each of them represents a different perspective, role, or affiliation related to this topic.\\\n",
        "    You can use other Wikipedia pages of related topics for inspiration. For each editor, add a description of what they will focus on.\n",
        "\n",
        "    Wiki page outlines of related topics for inspiration:\n",
        "    {examples}\"\"\",\n",
        "        ),\n",
        "        (\"user\", \"Topic of interest: {topic}\"),\n",
        "    ]\n",
        ")\n",
        "\n",
        "gen_perspectives_chain = gen_perspectives_prompt | llm.with_structured_output(Perspectives)\n"
      ]
    },
    {
      "cell_type": "code",
      "execution_count": null,
      "metadata": {
        "id": "XxxQmdtZcBEN"
      },
      "outputs": [],
      "source": [
        "from langchain_community.retrievers import WikipediaRetriever\n",
        "from langchain_core.runnables import RunnableLambda\n",
        "from langchain_core.runnables import chain as as_runnable\n",
        "\n",
        "wikipedia_retriever = WikipediaRetriever(load_all_available_meta=True, top_k_results=1)\n",
        "\n",
        "\n",
        "def format_doc(doc, max_length=1000):\n",
        "    related = \"- \".join(doc.metadata[\"categories\"])\n",
        "    return f\"### {doc.metadata['title']}\\n\\nSummary: {doc.page_content}\\n\\nRelated\\n{related}\"[\n",
        "        :max_length\n",
        "    ]\n",
        "\n",
        "\n",
        "def format_docs(docs):\n",
        "    return \"\\n\\n\".join(format_doc(doc) for doc in docs)\n",
        "\n",
        "\n",
        "@as_runnable\n",
        "async def survey_subjects(topic: str):\n",
        "    related_subjects = await expand_chain.ainvoke({\"topic\": topic})\n",
        "    # Limit to max 10 topics to be safe\n",
        "    related_subjects.topics = related_subjects.topics[:10]\n",
        "    retrieved_docs = await wikipedia_retriever.abatch(\n",
        "        related_subjects.topics, return_exceptions=True\n",
        "    )\n",
        "    all_docs = []\n",
        "    for docs in retrieved_docs:\n",
        "        if isinstance(docs, BaseException):\n",
        "            continue\n",
        "        all_docs.extend(docs)\n",
        "    formatted = format_docs(all_docs)\n",
        "    return await gen_perspectives_chain.ainvoke({\"examples\": formatted, \"topic\": topic})"
      ]
    },
    {
      "cell_type": "code",
      "execution_count": null,
      "metadata": {
        "id": "ZFeU30rCX31B",
        "colab": {
          "base_uri": "https://localhost:8080/"
        },
        "outputId": "fe9ba047-cb3b-4fc0-eb83-6ded535950b9"
      },
      "outputs": [
        {
          "output_type": "stream",
          "name": "stderr",
          "text": [
            "/usr/local/lib/python3.11/dist-packages/wikipedia/wikipedia.py:389: GuessedAtParserWarning: No parser was explicitly specified, so I'm using the best available HTML parser for this system (\"lxml\"). This usually isn't a problem, but if you run this code on another system, or in a different virtual environment, it may use a different parser and behave differently.\n",
            "\n",
            "The code that caused this warning is on line 389 of the file /usr/local/lib/python3.11/dist-packages/wikipedia/wikipedia.py. To get rid of this warning, pass the additional argument 'features=\"lxml\"' to the BeautifulSoup constructor.\n",
            "\n",
            "  lis = BeautifulSoup(html).find_all('li')\n"
          ]
        }
      ],
      "source": [
        "perspectives = await survey_subjects.ainvoke(example_topic)"
      ]
    },
    {
      "cell_type": "code",
      "execution_count": null,
      "metadata": {
        "id": "MYB8pzXcX-6m",
        "colab": {
          "base_uri": "https://localhost:8080/"
        },
        "outputId": "6b141c9a-72b6-4bb7-fe19-d597a6b6e699"
      },
      "outputs": [
        {
          "output_type": "execute_result",
          "data": {
            "text/plain": [
              "{'editors': [{'affiliation': 'Meta AI',\n",
              "   'name': 'Alexey Dosovitskiy',\n",
              "   'role': 'Researcher',\n",
              "   'description': 'Expertise in transformer architecture and its applications in natural language processing'},\n",
              "  {'affiliation': 'Google',\n",
              "   'name': 'Noam Shazeer',\n",
              "   'role': 'Researcher',\n",
              "   'description': 'Contributed to the development of the transformer architecture and its applications in large language models'},\n",
              "  {'affiliation': 'Google',\n",
              "   'name': 'Iulian Vlad Serban',\n",
              "   'role': 'Researcher',\n",
              "   'description': 'Expertise in natural language processing and applications of large language models in RAG'},\n",
              "  {'affiliation': 'Meta AI',\n",
              "   'name': 'Jason Weston',\n",
              "   'role': 'Researcher',\n",
              "   'description': 'Expertise in natural language processing and applications of large language models in RAG'},\n",
              "  {'affiliation': 'Google',\n",
              "   'name': 'Stephen Roller',\n",
              "   'role': 'Researcher',\n",
              "   'description': 'Expertise in natural language processing and applications of large language models in RAG'},\n",
              "  {'affiliation': 'Meta AI',\n",
              "   'name': 'Emily Dinan',\n",
              "   'role': 'Researcher',\n",
              "   'description': 'Expertise in natural language processing and applications of large language models in RAG'},\n",
              "  {'affiliation': 'Google',\n",
              "   'name': 'Stephen Clark',\n",
              "   'role': 'Researcher',\n",
              "   'description': 'Expertise in natural language processing and applications of large language models in RAG'},\n",
              "  {'affiliation': 'Meta AI',\n",
              "   'name': 'Edgar Duenez-Guzman',\n",
              "   'role': 'Researcher',\n",
              "   'description': 'Expertise in natural language processing and applications of large language models in RAG'},\n",
              "  {'affiliation': 'Google',\n",
              "   'name': 'Y-Lan Boureau',\n",
              "   'role': 'Researcher',\n",
              "   'description': 'Expertise in natural language processing and applications of large language models in RAG'},\n",
              "  {'affiliation': 'Meta AI',\n",
              "   'name': 'Jason Baldridge',\n",
              "   'role': 'Researcher',\n",
              "   'description': 'Expertise in natural language processing and applications of large language models in RAG'}]}"
            ]
          },
          "metadata": {},
          "execution_count": 112
        }
      ],
      "source": [
        "perspectives.model_dump()\n"
      ]
    },
    {
      "cell_type": "markdown",
      "metadata": {
        "id": "UIs7C8fTeu8N"
      },
      "source": [
        "#Expert Dialog\n",
        "\n",
        "* Now the true fun begins, each wikipedia writer is primed to role-play using the perspectives presented above. It will ask a series of questions of a second \"domain expert\" with access to a search engine. This generate content to generate a refined outline as well as an updated index of reference documents.\n",
        "\n",
        "#Interview State\n",
        "\n",
        "* The conversation is cyclic, so we will construct it within its own graph. The State will contain messages, the reference docs, and the editor (with its own \"persona\") to make it easy to parallelize these conversations."
      ]
    },
    {
      "cell_type": "code",
      "execution_count": null,
      "metadata": {
        "id": "AF2Il0bWetwb"
      },
      "outputs": [],
      "source": [
        "from typing import Annotated\n",
        "\n",
        "from langchain_core.messages import AnyMessage\n",
        "from typing_extensions import TypedDict\n",
        "\n",
        "from langgraph.graph import END, StateGraph, START\n",
        "\n",
        "\n",
        "def add_messages(left, right):\n",
        "    if not isinstance(left, list):\n",
        "        left = [left]\n",
        "    if not isinstance(right, list):\n",
        "        right = [right]\n",
        "    return left + right\n",
        "\n",
        "\n",
        "def update_references(references, new_references):\n",
        "    if not references:\n",
        "        references = {}\n",
        "    references.update(new_references)\n",
        "    return references\n",
        "\n",
        "\n",
        "def update_editor(editor, new_editor):\n",
        "    # Can only set at the outset\n",
        "    if not editor:\n",
        "        return new_editor\n",
        "    return editor\n",
        "\n",
        "\n",
        "class InterviewState(TypedDict):\n",
        "    messages: Annotated[List[AnyMessage], add_messages]\n",
        "    references: Annotated[Optional[dict], update_references]\n",
        "    editor: Annotated[Optional[Editor], update_editor]"
      ]
    },
    {
      "cell_type": "markdown",
      "metadata": {
        "id": "JA9Loyi5fc04"
      },
      "source": [
        "# Dialog Roles\n",
        "\n",
        "The graph will have two participants: the wikipedia editor (generate_question), who asks questions based on its assigned role, and a domain expert (`gen_answer_chain), who uses a search engine to answer the questions as accurately as possible."
      ]
    },
    {
      "cell_type": "code",
      "execution_count": null,
      "metadata": {
        "id": "NBdUB2X5fJI_"
      },
      "outputs": [],
      "source": [
        "import time\n",
        "from tenacity import retry, stop_after_attempt, wait_exponential, RetryError, stop_after_attempt\n",
        "from langchain_core.messages import AIMessage, HumanMessage, ToolMessage\n",
        "from langchain_core.prompts import MessagesPlaceholder, ChatPromptTemplate\n",
        "from langchain_core.runnables import RunnableLambda, RunnableConfig, chain as as_runnable\n",
        "\n",
        "gen_qn_prompt = ChatPromptTemplate.from_messages(\n",
        "    [\n",
        "        (\n",
        "            \"system\",\n",
        "            \"\"\"You are an experienced Wikipedia writer and want to edit a specific page. \\\n",
        "Besides your identity as a Wikipedia writer, you have a specific focus when researching the topic. \\\n",
        "Now, you are chatting with an expert to get information. Ask good questions to get more useful information.\n",
        "\n",
        "When you have no more questions to ask, say \"Thank you so much for your help!\" to end the conversation.\\\n",
        "Please only ask one question at a time and don't ask what you have asked before.\\\n",
        "Your questions should be related to the topic you want to write.\n",
        "Be comprehensive and curious, gaining as much unique insight from the expert as possible.\\\n",
        "\n",
        "Stay true to your specific perspective:\n",
        "\n",
        "{persona}\"\"\",\n",
        "        ),\n",
        "        MessagesPlaceholder(variable_name=\"messages\", optional=True),\n",
        "    ]\n",
        ")\n",
        "\n",
        "def tag_with_name(ai_message: AIMessage, name: str):\n",
        "    ai_message.name = name\n",
        "    return ai_message\n",
        "\n",
        "\n",
        "def swap_roles(state: InterviewState, name: str):\n",
        "    converted = []\n",
        "    for message in state[\"messages\"]:\n",
        "        if isinstance(message, AIMessage) and message.name != name:\n",
        "            message = HumanMessage(**message.model_dump(exclude={\"type\"}))\n",
        "        converted.append(message)\n",
        "    return {\"messages\": converted}\n",
        "\n",
        "\n",
        "@as_runnable\n",
        "async def generate_question(state: InterviewState):\n",
        "    editor = state[\"editor\"]\n",
        "\n",
        "    @retry(stop=stop_after_attempt(5), wait=wait_exponential(multiplier=1, min=4, max=60), retry_error_callback=lambda retry_state: print(f\"Retrying generate_question after error: {retry_state.outcome_exception}\")) # Retry decorator with error handling\n",
        "    async def _generate_question_with_retry(state):\n",
        "        gn_chain = (\n",
        "            RunnableLambda(swap_roles).bind(name=editor.name)\n",
        "            | gen_qn_prompt.partial(persona=editor.persona)\n",
        "            | fast_llm\n",
        "            | RunnableLambda(tag_with_name).bind(name=editor.name)\n",
        "        )\n",
        "        result = await gn_chain.ainvoke(state)\n",
        "        return {\"messages\": [result]}\n",
        "\n",
        "    try:\n",
        "        result = await _generate_question_with_retry(state)\n",
        "        return result\n",
        "    except RetryError as e:\n",
        "        print(f\"Retry attempts failed for generate_question: {e}\")\n",
        "        return {\"messages\": [AIMessage(content=\"Failed to generate question after multiple retries.\", name=editor.name)]} # Default message"
      ]
    },
    {
      "cell_type": "code",
      "execution_count": null,
      "metadata": {
        "id": "nNqPNjLvfN7a",
        "colab": {
          "base_uri": "https://localhost:8080/",
          "height": 122
        },
        "outputId": "bda21c48-c991-42bd-ecdb-65d64e844bb5"
      },
      "outputs": [
        {
          "output_type": "execute_result",
          "data": {
            "text/plain": [
              "\"I'm writing about the impact of large transformer models, specifically those with a million-plus token context window, on Retrieval-Augmented Generation (RAG) models. I'd love to get your insights on this topic.\\n\\nCan you tell me more about how the increased context window size affects the ability of RAG models to retrieve relevant information from a large corpus, and how this, in turn, impacts the overall performance of the model?\""
            ],
            "application/vnd.google.colaboratory.intrinsic+json": {
              "type": "string"
            }
          },
          "metadata": {},
          "execution_count": 115
        }
      ],
      "source": [
        "messages = [\n",
        "    HumanMessage(f\"So you said you were writing an article on {example_topic}?\")\n",
        "]\n",
        "\n",
        "question = await generate_question.ainvoke(\n",
        "    {\n",
        "        \"editor\": perspectives.editors[0],\n",
        "        \"messages\": messages,\n",
        "    }\n",
        ")\n",
        "\n",
        "question[\"messages\"][0].content"
      ]
    },
    {
      "cell_type": "markdown",
      "metadata": {
        "id": "oWNcgDt5khWB"
      },
      "source": [
        "# Answer questions\n",
        "\n",
        "The gen_answer_chain first generates queries (query expansion) to answer the editor's question, then responds with citations."
      ]
    },
    {
      "cell_type": "code",
      "execution_count": null,
      "metadata": {
        "id": "WtlZP4xpkewa"
      },
      "outputs": [],
      "source": [
        "\n",
        "# Initialize Groq model\n",
        "llm = ChatGroq(model_name=\"llama-3.1-8b-instant\", temperature=0.2, max_tokens=2000)\n",
        "\n",
        "# Define the Queries model\n",
        "class Queries(BaseModel):\n",
        "    queries: List[str] = Field(\n",
        "        description=\"Comprehensive list of search engine queries to answer the user's questions.\",\n",
        "    )\n",
        "\n",
        "# Create the query generation prompt\n",
        "gen_queries_prompt = ChatPromptTemplate.from_messages(\n",
        "    [\n",
        "        (\n",
        "            \"system\",\n",
        "            \"You are a helpful research assistant. Query the search engine to answer the user's questions.\",\n",
        "        ),\n",
        "        MessagesPlaceholder(variable_name=\"messages\", optional=True),\n",
        "    ]\n",
        ")\n",
        "\n",
        "# Create the query generation chain\n",
        "gen_queries_chain = gen_queries_prompt | llm.with_structured_output(Queries, include_raw=True)\n"
      ]
    },
    {
      "cell_type": "code",
      "execution_count": null,
      "metadata": {
        "id": "5oU_n8vok9YA",
        "colab": {
          "base_uri": "https://localhost:8080/"
        },
        "outputId": "5381b4f2-e92b-45cc-a258-df74078b9059"
      },
      "outputs": [
        {
          "output_type": "execute_result",
          "data": {
            "text/plain": [
              "['RAG models and large transformer models',\n",
              " 'impact of large context window on RAG models',\n",
              " 'Retrieval-Augmented Generation models and large corpus retrieval',\n",
              " 'large transformer models and RAG performance']"
            ]
          },
          "metadata": {},
          "execution_count": 117
        }
      ],
      "source": [
        "queries = await gen_queries_chain.ainvoke(\n",
        "    {\"messages\": [HumanMessage(content=question[\"messages\"][0].content)]}\n",
        ")\n",
        "queries[\"parsed\"].queries"
      ]
    },
    {
      "cell_type": "code",
      "execution_count": null,
      "metadata": {
        "id": "_SfQWaYmlHDy"
      },
      "outputs": [],
      "source": [
        "class AnswerWithCitations(BaseModel):\n",
        "    answer: str = Field(\n",
        "        description=\"Comprehensive answer to the user's question with citations.\",\n",
        "    )\n",
        "    cited_urls: List[str] = Field(\n",
        "        description=\"List of urls cited in the answer.\",\n",
        "    )\n",
        "\n",
        "    @property\n",
        "    def as_str(self) -> str:\n",
        "        return f\"{self.answer}\\n\\nCitations:\\n\\n\" + \"\\n\".join(\n",
        "            f\"[{i+1}]: {url}\" for i, url in enumerate(self.cited_urls)\n",
        "        )\n",
        "\n",
        "msg = (\n",
        "    \"You are an expert researcher. You have gathered all the relevant information to help a Wikipedia writer draft an article on a given topic. \"\n",
        "    \"Your task is to output a detailed answer as a valid JSON object with exactly two keys: \"\n",
        "    \"\\\"answer\\\" and \\\"cited_urls\\\". The \\\"answer\\\" key should contain a detailed response with each sentence supported by a citation (formatted as a footnote with the URL), \"\n",
        "    \"and the \\\"cited_urls\\\" key should be an array of strings, each representing a citation URL. \"\n",
        "    \"Output ONLY the JSON object with no extra text, commentary, or formatting.\"\n",
        ")\n",
        "\n",
        "gen_answer_prompt = ChatPromptTemplate.from_messages(\n",
        "    [\n",
        "        (\"system\", msg),\n",
        "        MessagesPlaceholder(variable_name=\"messages\", optional=True),\n",
        "    ]\n",
        ")\n",
        "\n",
        "gen_answer_chain = gen_answer_prompt | fast_llm.with_structured_output(\n",
        "    AnswerWithCitations, include_raw=True\n",
        ").with_config(run_name=\"GenerateAnswer\", max_tokens=2000)\n"
      ]
    },
    {
      "cell_type": "code",
      "source": [
        "import tiktoken\n",
        "\n",
        "def count_tokens(text: str, model: str = \"llama\") -> int:\n",
        "    \"\"\"\n",
        "    Counts the number of tokens in a given text using the specified model's encoding.\n",
        "\n",
        "    Args:\n",
        "        text: The text to count tokens in.\n",
        "        model: The name of the model to use for encoding (default: \"llama\").\n",
        "\n",
        "    Returns:\n",
        "        The number of tokens in the text.\n",
        "    \"\"\"\n",
        "    # Manually specify the encoding using tiktoken.get_encoding\n",
        "    # for the llama model family as it's not directly recognized by name\n",
        "    encoding = tiktoken.get_encoding(\"cl100k_base\")\n",
        "    return len(encoding.encode(text))\n",
        "\n",
        "# Example usage:\n",
        "system_text = msg  # From above\n",
        "token_count = count_tokens(system_text)\n",
        "print(f\"Token count for system message: {token_count}\")\n"
      ],
      "metadata": {
        "id": "zKrcAH_E6bjK",
        "colab": {
          "base_uri": "https://localhost:8080/"
        },
        "outputId": "8274a5d6-a690-48c8-8b4a-5ab7e617ef8e"
      },
      "execution_count": null,
      "outputs": [
        {
          "output_type": "stream",
          "name": "stdout",
          "text": [
            "Token count for system message: 115\n"
          ]
        }
      ]
    },
    {
      "cell_type": "code",
      "execution_count": null,
      "metadata": {
        "id": "LjJxWMDKlwLW"
      },
      "outputs": [],
      "source": [
        "from langchain_community.utilities.duckduckgo_search import DuckDuckGoSearchAPIWrapper\n",
        "from langchain_core.tools import tool\n",
        "\n",
        "'''\n",
        "# Tavily is typically a better search engine, but your free queries are limited\n",
        "search_engine = TavilySearchResults(max_results=4)\n",
        "\n",
        "@tool\n",
        "async def search_engine(query: str):\n",
        "    \"\"\"Search engine to the internet.\"\"\"\n",
        "    results = tavily_search.invoke(query)\n",
        "    return [{\"content\": r[\"content\"], \"url\": r[\"url\"]} for r in results]\n",
        "'''\n",
        "\n",
        "# DDG\n",
        "search_engine = DuckDuckGoSearchAPIWrapper()\n",
        "\n",
        "\n",
        "@tool\n",
        "async def search_engine(query: str):\n",
        "    \"\"\"Search engine to the internet.\"\"\"\n",
        "    results = DuckDuckGoSearchAPIWrapper()._ddgs_text(query)\n",
        "    return [{\"content\": r[\"body\"], \"url\": r[\"href\"]} for r in results]"
      ]
    },
    {
      "cell_type": "code",
      "execution_count": null,
      "metadata": {
        "id": "sBdsZcODl7ZC"
      },
      "outputs": [],
      "source": [
        "import json\n",
        "import time\n",
        "from tenacity import retry, stop_after_attempt, wait_exponential, RetryError\n",
        "from langchain_core.messages import AIMessage, HumanMessage, ToolMessage\n",
        "from langchain_core.prompts import MessagesPlaceholder, ChatPromptTemplate\n",
        "from langchain_core.runnables import RunnableConfig, RunnableLambda\n",
        "\n",
        "async def gen_answer(\n",
        "    state: InterviewState,\n",
        "    config: Optional[RunnableConfig] = None,\n",
        "    name: str = \"Subject_Matter_Expert\",\n",
        "    max_str_len: int = 5000, # Reduced max_str_len\n",
        "):\n",
        "    swapped_state = swap_roles(state, name)  # Convert all other AI messages\n",
        "\n",
        "    @retry(stop=stop_after_attempt(3), wait=wait_exponential(multiplier=1, min=10, max=60), retry_error_callback=lambda retry_state: print(f\"Retrying gen_answer after error: {retry_state.outcome.exception()}\")) # Retry decorator with error handling\n",
        "\n",
        "    async def _gen_answer_with_retry(swapped_state, config, max_str_len):\n",
        "        queries = await gen_queries_chain.ainvoke(swapped_state)\n",
        "        query_results = await search_engine.abatch(\n",
        "            queries[\"parsed\"].queries, config, return_exceptions=True\n",
        "        )\n",
        "        successful_results = [\n",
        "            res for res in query_results if not isinstance(res, Exception)\n",
        "        ]\n",
        "        all_query_results = {\n",
        "            res[\"url\"]: res[\"content\"] for results in successful_results for res in results\n",
        "        }\n",
        "        dumped = json.dumps(all_query_results)[:max_str_len]\n",
        "        ai_message: AIMessage = queries[\"raw\"]\n",
        "        tool_call = queries[\"raw\"].tool_calls[0]\n",
        "        tool_id = tool_call[\"id\"]\n",
        "        tool_message = ToolMessage(tool_call_id=tool_id, content=dumped)\n",
        "        swapped_state[\"messages\"].extend([ai_message, tool_message])\n",
        "        generated = await gen_answer_chain.ainvoke(swapped_state)\n",
        "        cited_urls = set(generated[\"parsed\"].cited_urls)\n",
        "        cited_references = {k: v for k, v in all_query_results.items() if k in cited_urls}\n",
        "        formatted_message = AIMessage(name=name, content=generated[\"parsed\"].as_str)\n",
        "        return {\"messages\": [formatted_message], \"references\": cited_references}\n",
        "\n",
        "    try:\n",
        "        result = await _gen_answer_with_retry(swapped_state, config, max_str_len)\n",
        "        return result\n",
        "    except RetryError as e:\n",
        "        print(f\"Retry attempts failed for gen_answer: {e}\")\n",
        "        return {\"messages\": [AIMessage(content=\"Failed to generate answer after multiple retries.\", name=name)], \"references\": {}} # Default message and empty references"
      ]
    },
    {
      "cell_type": "code",
      "execution_count": null,
      "metadata": {
        "id": "IPl1ndtol_b7",
        "colab": {
          "base_uri": "https://localhost:8080/"
        },
        "outputId": "0710e39c-3ddd-4c75-fa5f-709f95a37f92"
      },
      "outputs": [
        {
          "output_type": "stream",
          "name": "stdout",
          "text": [
            "RAG models have seen significant advances in recent years, with key developments including multimodal retrieval, improved retrieval accuracy, and enhanced response quality. Personalized recommendation systems are another key use case for advanced RAG techniques. The integration of retrieval confidence scoring into the generation process has also been a notable development. Techniques like model quantization and knowledge distillation are being explored to improve the efficiency and scalability of RAG systems. Additionally, RAG allows for easy updating of its knowledge base by replacing or updating its retrieval corpus. This makes it a flexible and adaptive learning approach. Overall, RAG is evolving from simple text retrieval into multimodal, real-time, and autonomous knowledge integration.\n",
            "\n",
            "Citations:\n",
            "\n",
            "[1]: https://www.datacamp.com/blog/rag-advanced\n",
            "[2]: https://labelstud.io/blog/rag-fundamentals-challenges-and-advanced-techniques/\n",
            "[3]: https://www.ayadata.ai/the-state-of-retrieval-augmented-generation-rag-in-2025-and-beyond/\n",
            "[4]: https://arxiv.org/abs/2501.07391\n",
            "[5]: https://blog.premai.io/advanced-rag-methods-simple-hybrid-agentic-graph-explained/\n",
            "[6]: https://ragflow.io/blog/the-rise-and-evolution-of-rag-in-2024-a-year-in-review\n",
            "[7]: https://www.chitika.com/retrieval-augmented-generation-rag-the-definitive-guide-2025/\n",
            "[8]: https://humanloop.com/blog/rag-architectures\n",
            "[9]: https://towardsai.net/p/artificial-intelligence/rag-explained-a-comprehensive-guide-to-mastering-retrieval-augmented-generation\n",
            "[10]: https://generativeai.pub/rags-new-dawn-79af33f3e5de\n",
            "[11]: https://www.geeksforgeeks.org/what-is-retrieval-augmented-generation-rag/\n",
            "[12]: https://www.microsoft.com/en-us/microsoft-cloud/blog/2025/02/04/common-retrieval-augmented-generation-rag-techniques-explained/\n"
          ]
        }
      ],
      "source": [
        "# Simplified prompt example:\n",
        "simple_prompt = {\n",
        "    \"messages\": [\n",
        "        HumanMessage(content=\"Can you provide a concise summary of the key advances in RAG models?\")\n",
        "    ]\n",
        "}\n",
        "\n",
        "example_answer = await gen_answer(simple_prompt)\n",
        "print(example_answer[\"messages\"][-1].content)\n"
      ]
    },
    {
      "cell_type": "markdown",
      "metadata": {
        "id": "IL8IoHm3niKg"
      },
      "source": [
        "# Construct the Interview Graph\n",
        "\n",
        "Now that we've defined the editor and domain expert, we can compose them in a graph."
      ]
    },
    {
      "cell_type": "code",
      "execution_count": null,
      "metadata": {
        "id": "VC57RIQHng1q"
      },
      "outputs": [],
      "source": [
        "max_num_turns = 3\n",
        "from langgraph.pregel import RetryPolicy\n",
        "\n",
        "def route_messages(state: InterviewState, name: str = \"Subject_Matter_Expert\"):\n",
        "    messages = state[\"messages\"]\n",
        "    num_responses = len(\n",
        "        [m for m in messages if isinstance(m, AIMessage) and m.name == name]\n",
        "    )\n",
        "    if num_responses >= max_num_turns:\n",
        "        return END\n",
        "    last_question = messages[-2]\n",
        "    if last_question.content.endswith(\"Thank you so much for your help!\"):\n",
        "        return END\n",
        "    return \"ask_question\"\n",
        "\n",
        "\n",
        "builder = StateGraph(InterviewState)\n",
        "\n",
        "builder.add_node(\"ask_question\", generate_question, retry=RetryPolicy(max_attempts=5))\n",
        "builder.add_node(\"answer_question\", gen_answer, retry=RetryPolicy(max_attempts=5))\n",
        "builder.add_conditional_edges(\"answer_question\", route_messages)\n",
        "builder.add_edge(\"ask_question\", \"answer_question\")\n",
        "\n",
        "builder.add_edge(START, \"ask_question\")\n",
        "interview_graph = builder.compile(checkpointer=False).with_config(\n",
        "    run_name=\"Conduct Interviews\"\n",
        ")"
      ]
    },
    {
      "cell_type": "code",
      "execution_count": null,
      "metadata": {
        "id": "nu6wiV4rnpI5",
        "colab": {
          "base_uri": "https://localhost:8080/",
          "height": 350
        },
        "outputId": "e8845ae9-d839-44d6-a5d0-d0c03120765b"
      },
      "outputs": [
        {
          "output_type": "display_data",
          "data": {
            "image/png": "[encoded data removed]",
            "text/plain": [
              "<IPython.core.display.Image object>"
            ]
          },
          "metadata": {}
        }
      ],
      "source": [
        "from IPython.display import Image, display\n",
        "\n",
        "try:\n",
        "    display(Image(interview_graph.get_graph().draw_mermaid_png()))\n",
        "except Exception:\n",
        "    # This requires some extra dependencies and is optional\n",
        "    pass"
      ]
    },
    {
      "cell_type": "code",
      "execution_count": null,
      "metadata": {
        "id": "nKDduw6NnsXZ",
        "colab": {
          "base_uri": "https://localhost:8080/"
        },
        "outputId": "1e953c75-8d69-47a1-ef01-e262dc162e9c"
      },
      "outputs": [
        {
          "output_type": "stream",
          "name": "stdout",
          "text": [
            "ask_question\n",
            "--  I'm writing about the impact of large transformer models, specifically those with a million-plus token context window, on Retrieval-Augmented Generation (RAG) models. Can you tell me more about how the increased context window size affects the ability of RAG models to retrieve relevant information f\n",
            "answer_question\n",
            "--  The increased context window size in RAG models has several advantages, including improved contextual relevance, enhanced performance, and reduced hallucinations. With a million-plus token context window, RAG models can handle vast amounts of information during inference, allowing them to process ex\n",
            "ask_question\n",
            "--  Those are some great references. It seems like the increased context window size in RAG models has several benefits, but it's not a straightforward replacement for RAG. I'd like to dig deeper into the trade-offs between large context windows and RAG. Can you elaborate on the scenarios where RAG migh\n",
            "Retrying gen_answer after error: Error code: 400 - {'error': {'message': \"Failed to call a function. Please adjust your prompt. See 'failed_generation' for more details.\", 'type': 'invalid_request_error', 'code': 'tool_use_failed', 'failed_generation': ''}}\n",
            "answer_question\n",
            "ask_question\n",
            "--  I'm actually writing an article on the topic of \"Reinforced Actor-Critic Generative Query Model\" (RAG) and its applications, with a focus on how large context window language models, such as those with a million-plus token context window, can impact its performance and capabilities.\n",
            "\n",
            "Can you tell me\n",
            "answer_question\n",
            "--  The increased context window size in RAG enables the model to capture long-range dependencies and relationships in the input data more effectively. This is because a larger context window allows the model to consider a broader range of tokens and their interactions, which is particularly important f\n",
            "ask_question\n",
            "--  That's really helpful to know. It sounds like the increased context window size can have a significant impact on RAG's performance, but it also requires careful consideration of the trade-offs between model capacity and computational efficiency.\n",
            "\n",
            "Can you speak to the relationship between the context\n",
            "Retrying gen_answer after error: Error code: 400 - {'error': {'message': \"Failed to call a function. Please adjust your prompt. See 'failed_generation' for more details.\", 'type': 'invalid_request_error', 'code': 'tool_use_failed', 'failed_generation': ''}}\n",
            "answer_question\n",
            "ask_question\n",
            "--  I'm actually writing an article on the topic, but I'd like to get more insights on the transformer architecture and its applications in natural language processing. \n",
            "\n",
            "Can you tell me more about the current limitations of the Reptile Algorithm for Gradient-based Model-agnostic Meta-Learning (RAG) whe\n",
            "answer_question\n",
            "--  The Reptile Algorithm for Gradient-based Model-agnostic Meta-Learning (RAG) has limitations in handling large context windows, which can be addressed by million-plus token context window language models. These models can process vast amounts of information during inference, such as Magic's LTM model\n",
            "ask_question\n",
            "--  It sounds like you've done extensive research on this topic. I'm particularly interested in the InfiniteHiP approach you mentioned, which enables efficient and practical long-context utilization.\n",
            "\n",
            "Can you explain in more detail how InfiniteHiP addresses the challenges of slower inference speeds and \n",
            "answer_question\n",
            "--  InfiniteHiP is a novel, and practical LLM inference framework that accelerates processing by dynamically eliminating irrelevant context tokens through a modular hierarchical token pruning algorithm and allows generalization to longer sequences by selectively applying various RoPE adjustment methods \n"
          ]
        }
      ],
      "source": [
        "final_step = None\n",
        "\n",
        "def summarize_history(messages):\n",
        "    # Implement your own summary logic or simply select the most recent messages.\n",
        "    # This is a placeholder for a more advanced summarization routine.\n",
        "    return messages[-3:]  # Only keep the last 3 messages\n",
        "\n",
        "# Use the summarized history when invoking the chain:\n",
        "initial_state = {\n",
        "    \"editor\": perspectives.editors[0],\n",
        "    \"messages\": summarize_history([\n",
        "        AIMessage(content=f\"So you said you were writing an article on {example_topic}?\", name=\"Subject_Matter_Expert\")\n",
        "    ]),\n",
        "}\n",
        "\n",
        "from tenacity import retry, stop_after_attempt, wait_exponential, RetryError\n",
        "import asyncio\n",
        "\n",
        "@retry(stop=stop_after_attempt(5), wait=wait_exponential(multiplier=1, min=10, max=60))\n",
        "async def run_interview(initial_state):\n",
        "    final_step = None\n",
        "    async for step in interview_graph.astream(initial_state):\n",
        "        name = next(iter(step))\n",
        "        print(name)\n",
        "        print(\"-- \", str(step[name][\"messages\"][-1].content)[:300])\n",
        "        await asyncio.sleep(20)  # Delay between steps to avoid rate limits\n",
        "        final_step = step\n",
        "    return final_step\n",
        "\n",
        "# Execute the robust interview graph with retries and delays\n",
        "final_step = await run_interview(initial_state)"
      ]
    },
    {
      "cell_type": "code",
      "execution_count": null,
      "metadata": {
        "id": "ngvlfi9opbO_"
      },
      "outputs": [],
      "source": [
        "final_state = next(iter(final_step.values()))"
      ]
    },
    {
      "cell_type": "markdown",
      "metadata": {
        "id": "Whg9JITupl15"
      },
      "source": [
        "# Refine Outline\n",
        "\n",
        "At this point in STORM, we've conducted a large amount of research from different perspectives. It's time to refine the original outline based on these investigations. Below, create a chain using the LLM with a long context window to update the original outline."
      ]
    },
    {
      "cell_type": "code",
      "execution_count": null,
      "metadata": {
        "id": "lv-UeAuDppU1"
      },
      "outputs": [],
      "source": [
        "refine_outline_prompt = ChatPromptTemplate.from_messages(\n",
        "    [\n",
        "        (\n",
        "            \"system\",\n",
        "            \"\"\"You are a Wikipedia writer. You have gathered information from experts and search engines. Now, you are refining the outline of the Wikipedia page. \\\n",
        "You need to make sure that the outline is comprehensive and specific. \\\n",
        "Topic you are writing about: {topic}\n",
        "\n",
        "Old outline:\n",
        "\n",
        "{old_outline}\"\"\",\n",
        "        ),\n",
        "        (\n",
        "            \"user\",\n",
        "            \"Refine the outline based on your conversations with subject-matter experts:\\n\\nConversations:\\n\\n{conversations}\\n\\nWrite the refined Wikipedia outline:\",\n",
        "        ),\n",
        "    ]\n",
        ")\n",
        "\n",
        "# Using turbo preview since the context can get quite long\n",
        "refine_outline_chain = refine_outline_prompt | long_context_llm.with_structured_output(\n",
        "    Outline\n",
        ")"
      ]
    },
    {
      "cell_type": "code",
      "execution_count": null,
      "metadata": {
        "id": "kTvqMQCepylj"
      },
      "outputs": [],
      "source": [
        "refined_outline = refine_outline_chain.invoke(\n",
        "    {\n",
        "        \"topic\": example_topic,\n",
        "        \"old_outline\": initial_outline.as_str,\n",
        "        \"conversations\": \"\\n\\n\".join(\n",
        "            f\"### {m.name}\\n\\n{m.content}\" for m in final_state[\"messages\"]\n",
        "        ),\n",
        "    }\n",
        ")"
      ]
    },
    {
      "cell_type": "code",
      "execution_count": null,
      "metadata": {
        "id": "IjCqNMvMp0q2",
        "colab": {
          "base_uri": "https://localhost:8080/"
        },
        "outputId": "890c526a-3b1e-4415-f91d-c1808ebde179"
      },
      "outputs": [
        {
          "output_type": "stream",
          "name": "stdout",
          "text": [
            "# Impact of million-plus token context window language models on Retrieval-Augmented Generation (RAG)\n",
            "\n",
            "## Pre-training and Fine-tuning\n",
            "\n",
            "This section provides an overview of the importance of pre-training and fine-tuning in million-plus token context window language models, particularly in the context of RAG.\n",
            "\n",
            "### Pre-training\n",
            "\n",
            "Pre-training involves training a model on a large dataset to acquire general knowledge.\n",
            "\n",
            "### Fine-tuning\n",
            "\n",
            "Fine-tuning involves adjusting the model\\'s parameters to adapt to a specific task or domain.\n",
            "\n",
            "### Role of Pre-training and Fine-tuning in RAG\n",
            "\n",
            "The role of pre-training and fine-tuning in RAG models, including their impact on model performance and the importance of understanding their procedures.\n",
            "\n",
            "## Challenges and Limitations of Large-scale Pre-training\n",
            "\n",
            "This section discusses the challenges and limitations of pre-training on extremely large numbers of tokens, including its impact on fine-tuning and downstream performance.\n",
            "\n",
            "### Impact on Fine-tuning and Downstream Performance\n",
            "\n",
            "The challenges of pre-training on extremely large numbers of tokens, including its impact on fine-tuning and downstream performance.\n",
            "\n",
            "### Strategies for Addressing the Challenges\n",
            "\n",
            "Strategies for addressing the challenges of large-scale pre-training, including averaging the base model with the continued pre-trained model.\n",
            "\n",
            "## Methodology and Evaluation\n",
            "\n",
            "This section provides an overview of the methodology and evaluation metrics used to assess the impact of million-plus token context window language models on RAG performance.\n",
            "\n",
            "### Methodology\n",
            "\n",
            "Overview of the methodology used to evaluate the impact of million-plus token context window language models on RAG performance.\n",
            "\n",
            "### Evaluation Metrics\n",
            "\n",
            "Evaluation metrics used to assess the impact of million-plus token context window language models on RAG performance.\n",
            "\n",
            "## Results\n",
            "\n",
            "This section presents the results of the evaluation, including the impact of million-plus token context window language models on RAG performance and a comparison with other language models.\n",
            "\n",
            "### Effect on RAG Performance\n",
            "\n",
            "Effect of million-plus token context window language models on RAG performance.\n",
            "\n",
            "### Comparison with Other Language Models\n",
            "\n",
            "Comparison of million-plus token context window language models with other language models.\n",
            "\n",
            "### Analysis of Impact on Long-range Dependencies\n",
            "\n",
            "Analysis of the impact of million-plus token context window language models on RAG\\'s ability to handle long-range dependencies.\n",
            "\n",
            "## Conclusion\n",
            "\n",
            "This section summarizes the key findings and implications of the research, including future directions for research on million-plus token context window language models and RAG.\n",
            "\n",
            "### Summary of Key Findings\n",
            "\n",
            "Summary of the key findings and implications of the research.\n",
            "\n",
            "### Future Directions\n",
            "\n",
            "Future directions for research on million-plus token context window language models and RAG.\n"
          ]
        }
      ],
      "source": [
        "print(refined_outline.as_str)"
      ]
    },
    {
      "cell_type": "markdown",
      "metadata": {
        "id": "eGfKVdEWqN7h"
      },
      "source": [
        "# Generate Article\n",
        "\n",
        "* Now it's time to generate the full article. We will first divide-and-conquer, so that each section can be tackled by an individual llm. Then we will prompt the long-form LLM to refine the finished article (since each section may use an inconsistent voice).\n",
        "\n",
        "# Create Retriever\n",
        "\n",
        "* The research process uncovers a large number of reference documents that we may want to query during the final article-writing process.\n",
        "\n",
        "* First, create the retriever:"
      ]
    },
    {
      "cell_type": "code",
      "execution_count": null,
      "metadata": {
        "id": "xQBjsbI7qwyA"
      },
      "outputs": [],
      "source": [
        "!pip install -q langchain_community langchain_groq langchain_core\n"
      ]
    },
    {
      "cell_type": "markdown",
      "metadata": {
        "id": "voRQc-j91jQd"
      },
      "source": []
    },
    {
      "cell_type": "code",
      "execution_count": null,
      "metadata": {
        "id": "J4-K7uwFqBZj"
      },
      "outputs": [],
      "source": [
        "from langchain_community.vectorstores import InMemoryVectorStore\n",
        "from langchain_core.documents import Document\n",
        "from langchain_community.embeddings import HuggingFaceEmbeddings\n",
        "\n",
        "embeddings = HuggingFaceEmbeddings(model_name=\"all-MiniLM-L6-v2\")\n",
        "\n",
        "# Example reference documents (replace with actual references from final_state)\n",
        "reference_docs = [\n",
        "    Document(page_content=v, metadata={\"source\": k})\n",
        "    for k, v in final_state[\"references\"].items()\n",
        "]\n",
        "\n",
        "# Create vectorstore\n",
        "vectorstore = InMemoryVectorStore.from_documents(\n",
        "    reference_docs,\n",
        "    embedding=embeddings,\n",
        ")\n",
        "\n",
        "# Create retriever\n",
        "retriever = vectorstore.as_retriever(k=3)\n"
      ]
    },
    {
      "cell_type": "code",
      "execution_count": null,
      "metadata": {
        "id": "EfG5a90Quizl",
        "colab": {
          "base_uri": "https://localhost:8080/"
        },
        "outputId": "f9053b9a-b7b5-4728-a96e-ea9a03c55dfa"
      },
      "outputs": [
        {
          "output_type": "execute_result",
          "data": {
            "text/plain": [
              "[Document(id='cf6c3038-002c-49b0-a12e-5082a625f9d3', metadata={'source': 'https://openreview.net/forum?id=H2SbfCYsgn'}, page_content='Pre-training on extremely large number of tokens eventually makes the model harder to fine-tune leading to worse downstream performance. For instance, after instruction tuning or multimodal fine tuning, OLMo-1B models pre-trained on 3T tokens under perform their 2.3T token counterpart by over $2\\\\%$ on standard LLM benchmarks.'),\n",
              " Document(id='521ad6d6-d433-42f2-8d3a-ecf4e7f123a7', metadata={'source': 'https://techcommunity.microsoft.com/blog/azure-ai-services-blog/enterprise-best-practices-for-fine-tuning-azure-openai-models/4382540'}, page_content='Fine-Tuning in the Hub The Hub resource, configured with the necessary compute, runs the fine-tuning job. Logs and metrics (training loss, validation accuracy) are recorded. Model Validation Once training completes, data scientists can query the newly fine-tuned model from the Hub to evaluate accuracy, latency, and token usage.'),\n",
              " Document(id='f9b96298-58ea-4e42-9708-f3873a6d66cf', metadata={'source': 'https://blog.langflow.org/transfer-learning-pre-training-or-fine-tuning/'}, page_content='The transition from Neural Networks to GenAI times has fundamentally changed the scale, workflows, and communication around these core concepts.Pre-training is now an industrial-scale operation, fine-tuning focuses on subtle adjustments rather than structural changes, and transfer learning is seamlessly integrated into modern GenAI workflows.. For those who started in the small-scale era ...'),\n",
              " Document(id='5d1798fa-426e-4974-b657-99671169e63f', metadata={'source': 'https://www.databricks.com/blog/characterizing-datasets-and-building-better-models-continued-pre-training'}, page_content='(a) We seek to improve the model with the best MMLU score after continued pre-training (40B tokens of 85% OpenWebMath and 15% FLAN) by averaging with the base model. Here we plot the performance of the merged model for different values of the mixing coefficient alpha, and find that an alpha of 0.9 (0.9 times the CPT model + 0.1 times the base ...')]"
            ]
          },
          "metadata": {},
          "execution_count": 85
        }
      ],
      "source": [
        "retriever.invoke(\"What's a long context LLM anyway?\")"
      ]
    },
    {
      "cell_type": "markdown",
      "metadata": {
        "id": "iknyMkd0uo9U"
      },
      "source": [
        "# Generate Sections\n",
        "\n",
        "* Now you can generate the sections using the indexed docs."
      ]
    },
    {
      "cell_type": "code",
      "execution_count": null,
      "metadata": {
        "id": "fWqAO6LkurW-"
      },
      "outputs": [],
      "source": [
        "class SubSection(BaseModel):\n",
        "    subsection_title: str = Field(..., title=\"Title of the subsection\")\n",
        "    content: str = Field(\n",
        "        ...,\n",
        "        title=\"Full content of the subsection. Include [#] citations to the cited sources where relevant.\",\n",
        "    )\n",
        "\n",
        "    @property\n",
        "    def as_str(self) -> str:\n",
        "        return f\"### {self.subsection_title}\\n\\n{self.content}\".strip()\n",
        "\n",
        "\n",
        "class WikiSection(BaseModel):\n",
        "    section_title: str = Field(..., title=\"Title of the section\")\n",
        "    content: str = Field(..., title=\"Full content of the section\")\n",
        "    subsections: Optional[List[Subsection]] = Field(\n",
        "        default=None,\n",
        "        title=\"Titles and descriptions for each subsection of the Wikipedia page.\",\n",
        "    )\n",
        "    citations: List[str] = Field(default_factory=list)\n",
        "\n",
        "    @property\n",
        "    def as_str(self) -> str:\n",
        "        subsections = \"\\n\\n\".join(\n",
        "            subsection.as_str for subsection in self.subsections or []\n",
        "        )\n",
        "        citations = \"\\n\".join([f\" [{i}] {cit}\" for i, cit in enumerate(self.citations)])\n",
        "        return (\n",
        "            f\"## {self.section_title}\\n\\n{self.content}\\n\\n{subsections}\".strip()\n",
        "            + f\"\\n\\n{citations}\".strip()\n",
        "        )\n",
        "\n",
        "\n",
        "section_writer_prompt = ChatPromptTemplate.from_messages(\n",
        "    [\n",
        "        (\n",
        "            \"system\",\n",
        "            \"You are an expert Wikipedia writer. Complete your assigned WikiSection from the following outline:\\n\\n\"\n",
        "            \"{outline}\\n\\nCite your sources, using the following references:\\n\\n<Documents>\\n{docs}\\n<Documents>\",\n",
        "        ),\n",
        "        (\"user\", \"Write the full WikiSection for the {section} section.\"),\n",
        "    ]\n",
        ")\n",
        "\n",
        "\n",
        "async def retrieve(inputs: dict):\n",
        "    docs = await retriever.ainvoke(inputs[\"topic\"] + \": \" + inputs[\"section\"])\n",
        "    formatted = \"\\n\".join(\n",
        "        [\n",
        "            f'<Document href=\"{doc.metadata[\"source\"]}\"/>\\n{doc.page_content}\\n</Document>'\n",
        "            for doc in docs\n",
        "        ]\n",
        "    )\n",
        "    return {\"docs\": formatted, **inputs}\n",
        "\n",
        "\n",
        "section_writer = (\n",
        "    retrieve\n",
        "    | section_writer_prompt\n",
        "    | long_context_llm.with_structured_output(WikiSection)\n",
        ")"
      ]
    },
    {
      "cell_type": "code",
      "execution_count": null,
      "metadata": {
        "id": "fj-5hJJ-uzsj",
        "colab": {
          "base_uri": "https://localhost:8080/"
        },
        "outputId": "67bf9beb-0160-4d3c-c139-c9358d8779a5"
      },
      "outputs": [
        {
          "output_type": "stream",
          "name": "stdout",
          "text": [
            "## Challenges and Limitations of Large-scale Pre-training\n",
            "\n",
            "Large-scale pre-training of language models has become increasingly common, but it also presents several challenges and limitations.\n",
            "\n",
            "### Impact on Fine-tuning and Downstream Performance\n",
            "\n",
            "The process of pre-training a model on an extremely large number of tokens can lead to the model becoming less effective at fine-tuning and downstream performance.\n",
            "\n",
            "### Strategies for Addressing the Challenges\n",
            "\n",
            "This is because the model becomes over-specialized in the pre-training task and loses the ability to generalize to new tasks.[0] https://openreview.net/forum?id=H2SbfCYsgn\n"
          ]
        }
      ],
      "source": [
        "section = await section_writer.ainvoke(\n",
        "    {\n",
        "        \"outline\": refined_outline.as_str,\n",
        "        \"section\": refined_outline.sections[1].section_title,\n",
        "        \"topic\": example_topic,\n",
        "    }\n",
        ")\n",
        "print(section.as_str)"
      ]
    },
    {
      "cell_type": "markdown",
      "metadata": {
        "id": "4z_W3Uulu8Z1"
      },
      "source": [
        "# Generate final article\n",
        "\n",
        "* Now we can rewrite the draft to appropriately group all the citations and maintain a consistent voice."
      ]
    },
    {
      "cell_type": "code",
      "execution_count": null,
      "metadata": {
        "id": "M4kgzT07u_Xs"
      },
      "outputs": [],
      "source": [
        "from langchain_core.output_parsers import StrOutputParser\n",
        "\n",
        "writer_prompt = ChatPromptTemplate.from_messages(\n",
        "    [\n",
        "        (\n",
        "            \"system\",\n",
        "            \"You are an expert Wikipedia author. Write the complete wiki article on {topic} using the following section drafts:\\n\\n\"\n",
        "            \"{draft}\\n\\nStrictly follow Wikipedia format guidelines.\",\n",
        "        ),\n",
        "        (\n",
        "            \"user\",\n",
        "            'Write the complete Wiki article using markdown format. Organize citations using footnotes like \"[1]\",'\n",
        "            \" avoiding duplicates in the footer. Include URLs in the footer.\",\n",
        "        ),\n",
        "    ]\n",
        ")\n",
        "\n",
        "writer = writer_prompt | long_context_llm | StrOutputParser()"
      ]
    },
    {
      "cell_type": "code",
      "execution_count": null,
      "metadata": {
        "id": "MB4slIGIvGpV",
        "colab": {
          "base_uri": "https://localhost:8080/"
        },
        "outputId": "5dbac754-5973-419e-dd6d-0ef58054a230"
      },
      "outputs": [
        {
          "output_type": "stream",
          "name": "stdout",
          "text": [
            "Impact of Million-Plus Token Context Window Language Models on Retrieval-Augmented Generation (RAG)\n",
            "====================================================================================\n",
            "\n",
            "Retrieval-Augmented Generation (RAG) is a type of language model that combines the strengths of both retrieval-based and generation-based models. However, the emergence of million-plus token context window language models has raised concerns about their impact on RAG's performance. This article explores the challenges and limitations of large-scale pre-training and their effects on fine-tuning and downstream performance.\n",
            "\n",
            "Challenges and Limitations of Large-Scale Pre-Training\n",
            "----------------------------------------------------\n",
            "\n",
            "Large-scale pre-training of language models has become increasingly common in the field of natural language processing. However, this process also presents several challenges and limitations that need to be addressed.\n",
            "\n",
            "### Impact on Fine-Tuning and Downstream Performance\n",
            "\n",
            "The process of pre-training a model on an extremely large number of tokens can lead to the model becoming less effective at fine-tuning and downstream performance.[1] This is because the model becomes over-specialized in the pre-training task and loses the ability to generalize to new tasks.[2] As a result, the model's performance may suffer when fine-tuned on a specific task or dataset.\n",
            "\n",
            "### Strategies for Addressing the Challenges\n",
            "\n",
            "To address the challenges of large-scale pre-training, several strategies can be employed:\n",
            "\n",
            "*   Regularization techniques, such as dropout and weight decay, can be used to prevent the model from over-fitting to the pre-training task.\n",
            "*   Transfer learning can be used to leverage the knowledge learned from the pre-training task and adapt it to the downstream task.\n",
            "*   Curriculum learning can be used to gradually increase the complexity of the tasks and datasets during fine-tuning.\n",
            "\n",
            "References\n",
            "----------\n",
            "\n",
            "[1] https://arxiv.org/abs/2205.03124\n",
            "[2] https://openreview.net/forum?id=H2SbfCYsgn"
          ]
        }
      ],
      "source": [
        "for tok in writer.stream({\"topic\": example_topic, \"draft\": section.as_str}):\n",
        "    print(tok, end=\"\")"
      ]
    },
    {
      "cell_type": "markdown",
      "metadata": {
        "id": "IkYSJEvHvV6a"
      },
      "source": [
        "# Final Flow\n",
        "\n",
        "* Now it's time to string everything together. We will have 6 main stages in sequence: .\n",
        "\n",
        "1. Generate the initial outline + perspectives\n",
        "\n",
        "2. Batch converse with each perspective to expand the content for the article\n",
        "\n",
        "3. Refine the outline based on the conversations\n",
        "\n",
        "4. Index the reference docs from the conversations\n",
        "\n",
        "5. Write the individual sections of the article\n",
        "\n",
        "6. Write the final wiki"
      ]
    },
    {
      "cell_type": "markdown",
      "metadata": {
        "id": "KelqiEVyvy-U"
      },
      "source": [
        "The state tracks the outputs of each stage."
      ]
    },
    {
      "cell_type": "code",
      "execution_count": null,
      "metadata": {
        "id": "ENAmJjnjvz7w"
      },
      "outputs": [],
      "source": [
        "class ResearchState(TypedDict):\n",
        "    topic: str\n",
        "    outline: Outline\n",
        "    editors: List[Editor]\n",
        "    interview_results: List[InterviewState]\n",
        "    # The final sections output\n",
        "    sections: List[WikiSection]\n",
        "    article: str"
      ]
    },
    {
      "cell_type": "code",
      "execution_count": null,
      "metadata": {
        "id": "5l4KklIjxPpt"
      },
      "outputs": [],
      "source": [
        "import asyncio\n",
        "\n",
        "from tenacity import retry, wait_exponential, stop_after_attempt\n",
        "\n",
        "@retry(stop=stop_after_attempt(5), wait=wait_exponential(min=10, max=60))\n",
        "async def safe_invoke(chain, input):\n",
        "    return await chain.ainvoke(input=input)\n",
        "\n",
        "async def initialize_research(state: ResearchState):\n",
        "    topic = state[\"topic\"]\n",
        "    coros = (\n",
        "        generate_outline_direct.ainvoke({\"topic\": topic}),\n",
        "        survey_subjects.ainvoke(topic),\n",
        "    )\n",
        "    results = await asyncio.gather(*coros)\n",
        "    return {\n",
        "        **state,\n",
        "        \"outline\": results[0],\n",
        "        \"editors\": results[1].editors,\n",
        "    }\n",
        "\n",
        "\n",
        "async def conduct_interviews(state: ResearchState):\n",
        "    topic = state[\"topic\"]\n",
        "\n",
        "    initial_states = [\n",
        "        {\n",
        "            \"editor\": editor,\n",
        "            \"messages\": [\n",
        "                AIMessage(\n",
        "                    content=f\"So you said you were writing an article on {topic}?\",\n",
        "                    name=\"Subject_Matter_Expert\",\n",
        "                ),\n",
        "            ],\n",
        "        }\n",
        "        for editor in state[\"editors\"][:2]  # Limit to the first 2 editors\n",
        "    ]\n",
        "\n",
        "    print(f\"Initial States: {initial_states}\")\n",
        "    interview_results = []\n",
        "\n",
        "    # Process interviews sequentially with delay\n",
        "    for i, interview_state in enumerate(initial_states):\n",
        "        print(f\"\\\\nStarting interview with editor: {interview_state['editor'].name} ({i+1}/{len(initial_states)})\")\n",
        "        interview_result = await interview_graph.ainvoke(interview_state, config={\"max_concurrency\": 1})\n",
        "        interview_results.append(interview_result)\n",
        "        print(f\"Finished interview with editor: {interview_state['editor'].name}\")\n",
        "        if i < len(initial_states) - 1:\n",
        "            print(\"Waiting 120 seconds before starting the next interview to manage rate limits...\") # Increased delay\n",
        "            await asyncio.sleep(120)  # Increased delay: 120 seconds (2 minutes)\n",
        "\n",
        "    print(f\"Interview Results: {interview_results}\")\n",
        "    return {\n",
        "        **state,\n",
        "        \"interview_results\": interview_results,\n",
        "    }\n",
        "\n",
        "\n",
        "def format_conversation(interview_state):\n",
        "    messages = interview_state[\"messages\"]\n",
        "    convo = \"\\n\".join(f\"{m.name}: {m.content}\" for m in messages)\n",
        "    return f'Conversation with {interview_state[\"editor\"].name}\\n\\n' + convo\n",
        "\n",
        "\n",
        "async def refine_outline(state: ResearchState):\n",
        "    convos = \"\\n\\n\".join(\n",
        "        [\n",
        "            format_conversation(interview_state)\n",
        "            for interview_state in state[\"interview_results\"]\n",
        "        ]\n",
        "    )\n",
        "\n",
        "    updated_outline = await refine_outline_chain.ainvoke(\n",
        "        {\n",
        "            \"topic\": state[\"topic\"],\n",
        "            \"old_outline\": state[\"outline\"].as_str,\n",
        "            \"conversations\": convos,\n",
        "        }\n",
        "    )\n",
        "    return {**state, \"outline\": updated_outline}\n",
        "\n",
        "\n",
        "async def index_references(state: ResearchState):\n",
        "    all_docs = []\n",
        "    for interview_state in state[\"interview_results\"]:\n",
        "        reference_docs = [\n",
        "            Document(page_content=v, metadata={\"source\": k})\n",
        "            for k, v in interview_state[\"references\"].items()\n",
        "        ]\n",
        "        all_docs.extend(reference_docs)\n",
        "    await vectorstore.aadd_documents(all_docs)\n",
        "    return state\n",
        "\n",
        "\n",
        "async def write_sections(state: ResearchState):\n",
        "    sections_content = []\n",
        "    for sec in state[\"outline\"].sections:\n",
        "        docs = retriever.invoke(state[\"topic\"] + \": \" + sec.section_title)\n",
        "        formatted_docs = \"\\n\".join([doc.page_content for doc in docs])\n",
        "\n",
        "\n",
        "        from tenacity import retry, wait_exponential, stop_after_attempt\n",
        "\n",
        "        @retry(stop=stop_after_attempt(5), wait=wait_exponential(min=10, max=60))\n",
        "        async def safe_invoke(chain, input):\n",
        "            return await chain.ainvoke(input=input)\n",
        "\n",
        "        section_resp = await safe_invoke(section_writer, {\n",
        "            \"section\": sec.section_title,\n",
        "            \"docs\": formatted_docs,\n",
        "            \"outline\": state[\"outline\"].as_str,  # Use the as_str property instead of joining directly\n",
        "            \"topic\": state[\"topic\"]\n",
        "        })\n",
        "\n",
        "        sections_content.append(section_resp.content)\n",
        "\n",
        "        # Pause briefly to respect rate limits\n",
        "        await asyncio.sleep(20)  # <-- Increased delay to 20 seconds\n",
        "\n",
        "    return {**state, \"sections\": sections_content}\n",
        "\n",
        "\n",
        "async def write_article(state: ResearchState):\n",
        "    topic = state[\"topic\"]\n",
        "    sections = state[\"sections\"]\n",
        "\n",
        "    # Fix: If sections are strings, use them directly.\n",
        "    # If they're objects with content, use the appropriate attribute.\n",
        "    if isinstance(sections[0], str):\n",
        "        draft = \"\\n\\n\".join(sections)\n",
        "    else:\n",
        "        # Assuming the sections are objects with content stored in a 'content' attribute\n",
        "        # Adjust this attribute name as needed based on your actual object structure\n",
        "        draft = \"\\n\\n\".join([section.content for section in sections])\n",
        "\n",
        "    article = await writer.ainvoke({\"topic\": topic, \"draft\": draft})\n",
        "\n",
        "    await asyncio.sleep(20)  # <-- Delay after final article generation\n",
        "\n",
        "    return {\n",
        "        **state,\n",
        "        \"article\": article,\n",
        "    }"
      ]
    },
    {
      "cell_type": "markdown",
      "metadata": {
        "id": "5jp34qiUxWIT"
      },
      "source": [
        "# Create The Graph"
      ]
    },
    {
      "cell_type": "code",
      "execution_count": null,
      "metadata": {
        "id": "Mp7TAomAxYxT"
      },
      "outputs": [],
      "source": [
        "from langgraph.checkpoint.memory import MemorySaver\n",
        "\n",
        "builder_of_storm = StateGraph(ResearchState)\n",
        "\n",
        "nodes = [\n",
        "    (\"init_research\", initialize_research),\n",
        "    (\"conduct_interviews\", conduct_interviews),\n",
        "    (\"refine_outline\", refine_outline),\n",
        "    (\"index_references\", index_references),\n",
        "    (\"write_sections\", write_sections),\n",
        "    (\"write_article\", write_article),\n",
        "]\n",
        "for i in range(len(nodes)):\n",
        "    name, node = nodes[i]\n",
        "    builder_of_storm.add_node(name, node, retry=RetryPolicy(max_attempts=3))\n",
        "    if i > 0:\n",
        "        builder_of_storm.add_edge(nodes[i - 1][0], name)\n",
        "\n",
        "builder_of_storm.add_edge(START, nodes[0][0])\n",
        "builder_of_storm.add_edge(nodes[-1][0], END)\n",
        "storm = builder_of_storm.compile(checkpointer=MemorySaver())"
      ]
    },
    {
      "cell_type": "code",
      "execution_count": null,
      "metadata": {
        "id": "g3p01insxnFd",
        "colab": {
          "base_uri": "https://localhost:8080/",
          "height": 747
        },
        "outputId": "4278c1c2-b41e-4b07-8641-9fea8dee910a"
      },
      "outputs": [
        {
          "output_type": "display_data",
          "data": {
            "image/png": "[encoded data removed]",
            "text/plain": [
              "<IPython.core.display.Image object>"
            ]
          },
          "metadata": {}
        }
      ],
      "source": [
        "from IPython.display import Image, display\n",
        "\n",
        "try:\n",
        "    display(Image(storm.get_graph().draw_mermaid_png()))\n",
        "except Exception:\n",
        "    # This requires some extra dependencies and is optional\n",
        "    pass"
      ]
    },
    {
      "cell_type": "code",
      "execution_count": null,
      "metadata": {
        "id": "Jv6zVWn-xsdO",
        "colab": {
          "base_uri": "https://localhost:8080/"
        },
        "outputId": "e4252010-0f6c-4540-e27d-d8b7c1735dc2"
      },
      "outputs": [
        {
          "output_type": "stream",
          "name": "stdout",
          "text": [
            "init_research\n",
            "--  {'topic': 'Groq, NVIDIA, Llamma.cpp and the future of LLM Inference', 'outline': Outline(page_title='Large Language Model Inference: A Comparative Analysis of Groq, NVIDIA, and Llama.cpp', sections=[Section(section_title='Background', description='Introduction to LLM Inference', subsections=[Subsect\n",
            "Initial States: [{'editor': Editor(affiliation='NVIDIA', name='Alexis Jacq', role='Senior Engineer', description='Focus on developing and optimizing AI inference engines for NVIDIA GPUs, with a focus on large language models.'), 'messages': [AIMessage(content='So you said you were writing an article on Groq, NVIDIA, Llamma.cpp and the future of LLM Inference?', additional_kwargs={}, response_metadata={}, name='Subject_Matter_Expert')]}, {'editor': Editor(affiliation='Groq', name='Jonathan Ross', role='Co-Founder and CTO', description='Focus on designing and developing AI accelerators for large language models, with a focus on efficiency and scalability.'), 'messages': [AIMessage(content='So you said you were writing an article on Groq, NVIDIA, Llamma.cpp and the future of LLM Inference?', additional_kwargs={}, response_metadata={}, name='Subject_Matter_Expert')]}]\n",
            "\\nStarting interview with editor: Alexis Jacq (1/2)\n",
            "Finished interview with editor: Alexis Jacq\n",
            "Waiting 120 seconds before starting the next interview to manage rate limits...\n",
            "\\nStarting interview with editor: Jonathan Ross (2/2)\n",
            "Finished interview with editor: Jonathan Ross\n",
            "Interview Results: [{'messages': [AIMessage(content='So you said you were writing an article on Groq, NVIDIA, Llamma.cpp and the future of LLM Inference?', additional_kwargs={}, response_metadata={}, name='Subject_Matter_Expert'), AIMessage(content=\"I'm writing an article on the intersection of these topics, specifically focusing on the impact of Groq's technology on the future of large language model (LLM) inference on NVIDIA GPUs. \\n\\nCan you tell me more about how Groq's technology, such as their Groq Accelerator, compares to NVIDIA's own offerings in terms of performance and efficiency for LLM inference tasks?\", additional_kwargs={}, response_metadata={'token_usage': {'completion_tokens': 78, 'prompt_tokens': 231, 'total_tokens': 309, 'completion_time': 0.104, 'prompt_time': 0.008122207, 'queue_time': 0.256305719, 'total_time': 0.112122207}, 'model_name': 'llama-3.1-8b-instant', 'system_fingerprint': 'fp_a4265e44d5', 'finish_reason': 'stop', 'logprobs': None}, name='Alexis Jacq', id='run-e0c3bbb4-0737-4f66-bb75-a4e1de35ec29-0', usage_metadata={'input_tokens': 231, 'output_tokens': 78, 'total_tokens': 309}), AIMessage(content=\"Groq's technology, particularly their Groq Accelerator, has been compared to NVIDIA's offerings in terms of performance and efficiency for LLM inference tasks. According to various sources, Groq's Accelerator delivers results at more than 5 times lower cost and one-third the energy per token compared to NVIDIA's GPUs (1, 4). Additionally, Groq's LPUs are designed for inference at scale, making them a complementary tool to existing GPU deployments, boosting existing GPU deployments by offloading inference workloads (3). However, it's worth noting that Groq's Accelerator may have limitations in terms of memory capacity and bandwidth, which could impact its performance on larger models and batch sizes (2). Nevertheless, Groq's technology has shown impressive results, with up to 18x faster LLM inference performance compared to NVIDIA's GPUs (5). Overall, while NVIDIA's offerings remain dominant in the AI infrastructure of hyperscalers, Groq's technology presents a compelling alternative for LLM inference tasks, particularly in terms of efficiency and cost-effectiveness.\\n\\nCitations:\\n\\n[1]: https://fundamentalbottom.substack.com/p/longai-asic-part-iii-groq-sambanova\\n[2]: https://aiixx.ai/blog/groq-ai-chips-vs-nvidia/\\n[3]: https://pattonjanssen.substack.com/p/test-nvidia-vs-groq-transatlantic\\n[4]: https://generativeaitech.substack.com/p/groq-and-its-impact-on-ai-inference\\n[5]: https://medium.com/byte-sized-ai/sambanova-groq-and-cerebras-competing-nvidia-for-llm-inference-openais-strawberry-introduced-b514cd7ef78b\", additional_kwargs={}, response_metadata={}, name='Subject_Matter_Expert'), AIMessage(content=\"It sounds like you've done a thorough analysis of Groq's technology and its comparison to NVIDIA's offerings. I'm particularly interested in the complementary nature of Groq's LPUs to existing GPU deployments, as you mentioned. \\n\\nCan you elaborate on how Groq's technology can be integrated with NVIDIA's GPUs to achieve the 18x faster LLM inference performance, and what kind of workloads or use cases would benefit most from this hybrid approach?\", additional_kwargs={}, response_metadata={'token_usage': {'completion_tokens': 92, 'prompt_tokens': 681, 'total_tokens': 773, 'completion_time': 0.122666667, 'prompt_time': 0.026312609, 'queue_time': 0.25532597300000004, 'total_time': 0.148979276}, 'model_name': 'llama-3.1-8b-instant', 'system_fingerprint': 'fp_f7bd09b454', 'finish_reason': 'stop', 'logprobs': None}, name='Alexis Jacq', id='run-e9195a14-3653-49ed-a271-7d990e787d71-0', usage_metadata={'input_tokens': 681, 'output_tokens': 92, 'total_tokens': 773}), AIMessage(content=\"Groq's LPUs can be integrated with NVIDIA GPUs to achieve 18x faster LLM inference performance through a hybrid approach. This involves offloading inference workloads from GPUs to LPUs, which are designed for inference at scale and deliver results at more than 5 times lower cost and one-third the energy per token compared to GPUs. The hybrid approach combines the strengths of both technologies, allowing for cost-effective and efficient LLM inference. This synergy is particularly beneficial for workloads that require high-performance and low-latency inference, such as natural language processing and computer vision tasks. Additionally, the hybrid approach enables the use of smaller language models on edge devices, reducing the need for expensive cloud servers and increasing the deployment of AI models in resource-constrained environments. Overall, the Groq-NVIDIA hybrid approach presents a promising solution for achieving high-performance and efficient LLM inference, with potential applications in various industries, including healthcare, finance, and education. \\n\\nCitations:\\n\\n[1]: https://www.forbes.com/sites/karlfreund/2024/08/09/can-groq-really-take-on-nvidia/\\n[2]: https://medium.com/@cognidownunder/groqs-lpu-the-ai-accelerator-that-s-leaving-gpus-in-the-dust-bb6fff67a877\\n[3]: https://resource-erectors.com/groq-vs-grok-and-grokking-the-nvidia-gpu-vs-lpu-contest/\\n[4]: https://www.cudocompute.com/blog/gpu-vs-lpu-which-is-better-for-ai-workloads\\n[5]: https://www.linkedin.com/pulse/groqs-lpu-disruptor-ai-chip-market-rosalind-z-ga3sc\\n[6]: https://arxiv.org/abs/2404.14618\\n[7]: https://dl.acm.org/doi/10.1145/3662006.3662067\\n[8]: https://prajnaaiwisdom.medium.com/hybrid-approaches-combining-rag-and-finetuning-for-optimal-llm-performance-35d2bf3582a9\\n[9]: https://arxiv.org/pdf/2412.12687\\n[10]: https://heartcore.substack.com/p/nvidia-vs-groq-transatlantic-alliance\\n[11]: https://opentools.ai/news/groq-makes-a-bold-move-with-dollar640m-funding-to-take-on-nvidia\\n[12]: https://pattonjanssen.substack.com/p/test-nvidia-vs-groq-transatlantic\", additional_kwargs={}, response_metadata={}, name='Subject_Matter_Expert')], 'references': {'https://fundamentalbottom.substack.com/p/longai-asic-part-iii-groq-sambanova': \"Internal unit collaboration and external storage options boost performance for large language models, improving throughput and efficiency. ... Groq vs. Nvidia BOM Cost (Excludes Margins, Networking, CPUs, Racks, Power, etc.) ... (VU9P) FPGAs, forming a hybrid heterogeneous accelerator model. This enhances the card's flexibility and versatility ...\", 'https://aiixx.ai/blog/groq-ai-chips-vs-nvidia/': \"Groq's LPU chips do not have any on-chip HBM, relying instead on large amounts of on-die SRAM memory. In contrast, chips like NVIDIA's A100 GPU have up to 80GB of HBM2e memory with very high bandwidth. The lack of HBM may limit Groq's performance on larger models and batch sizes that require more memory capacity and bandwidth.\", 'https://pattonjanssen.substack.com/p/test-nvidia-vs-groq-transatlantic': \"Groq's LPUs are designed for inference at scale, delivering results at more than 5 times lower cost and one-third the energy per token vs. GPUs. This positions LPUs not as GPU replacements but as complementary tools, boosting existing GPU deployments by offloading inference workloads.\", 'https://generativeaitech.substack.com/p/groq-and-its-impact-on-ai-inference': 'Groq Delivers up to 18x Faster LLM Inference Performance . Groq has developed its own specialized chip, known as the LPU™ (Language Processing Unit) Inference Engine. This chip is specifically designed to handle AI and machine learning workloads with high efficiency, low latency, and high throughput.', 'https://medium.com/byte-sized-ai/sambanova-groq-and-cerebras-competing-nvidia-for-llm-inference-openais-strawberry-introduced-b514cd7ef78b': 'In the \"token wars,\" SambaNova, Groq, and Cerebras all aim to outpace Nvidia\\'s GPUs, which dominate the AI infrastructure of hyperscalers but deliver significantly lower speeds.', 'https://www.forbes.com/sites/karlfreund/2024/08/09/can-groq-really-take-on-nvidia/': \"Unlike AI GPU's from Nvidia and AMD, Groq uses on-chip SRAM, with 14GB of high bandwidth shared memory for weights across the rack. SRAM is some 100x faster than the HBM memory used by GPUs.\", 'https://medium.com/@cognidownunder/groqs-lpu-the-ai-accelerator-that-s-leaving-gpus-in-the-dust-bb6fff67a877': \"Q: How much does Groq's LPU cost? A: The GroqCard has an upfront cost of $20,000, but offers lower cost per token for inference tasks compared to traditional GPUs.\", 'https://resource-erectors.com/groq-vs-grok-and-grokking-the-nvidia-gpu-vs-lpu-contest/': 'The Groq Saga Unfolds: LPU versus GPU. A delightful CEO fracas has taken center stage in the ever-evolving landscape of artificial intelligence and 21st-century enterprise. The culprit? Who else but the engineer/entrepreneur who seems to pop up in every industrial sector like a ubiquitous Tom Thumb with a corporate finger in every pie.', 'https://www.cudocompute.com/blog/gpu-vs-lpu-which-is-better-for-ai-workloads': 'To use the latest NVIDIA GPUs for your AI and HPC ... programming interfaces (APIs) for developers to interact with the LPU hardware, facilitating customization and integration into various NLP applications. ... The Groq LPU employs a multi-tiered memory hierarchy to ensure data is readily available at various stages of computation. Closest to ...', 'https://www.linkedin.com/pulse/groqs-lpu-disruptor-ai-chip-market-rosalind-z-ga3sc': 'High Energy Efficiency: The energy consumption of Groq LPU is only one-tenth of that of NVIDIA GPU, while achieving more than 10 times the inference speed. This makes LPU more cost-effective in ...', 'https://arxiv.org/abs/2404.14618': 'Large language models (LLMs) excel in most NLP tasks but also require expensive cloud servers for deployment due to their size, while smaller models that can be deployed on lower cost (e.g., edge) devices, tend to lag behind in terms of response quality. Therefore in this work we propose a hybrid inference approach which combines their respective strengths to save cost and maintain quality ...', 'https://dl.acm.org/doi/10.1145/3662006.3662067': 'A SLM (small language model) such as TinyLlama resides on the Edge devices, through token-level interaction with the Cloud-side LLMs during inference, approaching LLM quality with a controllable cost similar to SLM. Evaluation results show that our method can only use 25.8% LLM cost to achieve LLM-comparable quality on GSM8K task.', 'https://prajnaaiwisdom.medium.com/hybrid-approaches-combining-rag-and-finetuning-for-optimal-llm-performance-35d2bf3582a9': 'Cons: Potentially increased complexity and inference time. 3. Integrated Hybrid: Finetune the LLM to explicitly incorporate retrieved information. Train the model to generate outputs based on both its internal knowledge and external retrieval. Pros: Tight integration of RAG and finetuning benefits.', 'https://arxiv.org/pdf/2412.12687': 'Under this trade-off, a promising approach for enabling LLM inference over wireless networks is the hybrid language *Equal contribution Fig. 1: Schematic illustration of the proposed U-HLM over a ... the initial phase of inference. A. Token Generation of Hybrid Lauguage Model The core behavior of hybrid language model (HLM) is that the SLM on ...', 'https://heartcore.substack.com/p/nvidia-vs-groq-transatlantic-alliance': \"Groq's LPUs are designed for inference at scale, delivering results at more than 5 times lower cost and one-third the energy per token vs. GPUs. This positions LPUs not as GPU replacements but as complementary tools, boosting existing GPU deployments by offloading inference workloads.\", 'https://opentools.ai/news/groq-makes-a-bold-move-with-dollar640m-funding-to-take-on-nvidia': \"AI chip startup Groq has raised a hefty $640 million in Series D funding, bringing its valuation to $2.8 billion. Led by BlackRock Private Equity Partners, this funding round promises to turbocharge Groq's expansion, intensifying competition with industry giant Nvidia. Groq plans to utilize the investment to extend GroqCloud, deploy over 100,000 additional LPUs, and scale their 'tokens-as-a ...\"}, 'editor': Editor(affiliation='NVIDIA', name='Alexis Jacq', role='Senior Engineer', description='Focus on developing and optimizing AI inference engines for NVIDIA GPUs, with a focus on large language models.')}, {'messages': [AIMessage(content='So you said you were writing an article on Groq, NVIDIA, Llamma.cpp and the future of LLM Inference?', additional_kwargs={}, response_metadata={}, name='Subject_Matter_Expert'), AIMessage(content=\"I'm writing an article on the intersection of these topics, specifically focusing on the efficiency and scalability aspects of large language model (LLM) inference. \\n\\nCan you tell me more about Groq's approach to designing AI accelerators, and how their technology compares to NVIDIA's offerings in terms of efficiency and scalability for LLM inference?\", additional_kwargs={}, response_metadata={'token_usage': {'completion_tokens': 68, 'prompt_tokens': 236, 'total_tokens': 304, 'completion_time': 0.090666667, 'prompt_time': 0.008230865, 'queue_time': 0.23670751, 'total_time': 0.098897532}, 'model_name': 'llama-3.1-8b-instant', 'system_fingerprint': 'fp_a4265e44d5', 'finish_reason': 'stop', 'logprobs': None}, name='Jonathan Ross', id='run-e1cc1a62-4e48-4676-b6ae-d3c254c6c401-0', usage_metadata={'input_tokens': 236, 'output_tokens': 68, 'total_tokens': 304}), AIMessage(content=\"Groq's AI accelerators, such as the LPU, are designed to provide low latency, energy-efficient, and repeatable inference performance at scale. They are architected from the ground up to achieve optimal performance for LLM inference, with a unique architecture that allows for customization and flexibility in application. In contrast, NVIDIA's offerings, such as their GPUs, are optimized for a wide range of AI workloads, but may not provide the same level of efficiency and scalability for LLM inference as Groq's accelerators. According to a study, Groq LPU based systems provide very low latencies for LLM inference processing, unlike AI GPU's from Nvidia and AMD. However, Groq's accelerators may not be as scalable as NVIDIA's offerings, requiring thousands of chips to host an LLM of a certain size. Nevertheless, Groq's technology is still a promising solution for LLM inference, and its efficiency and scalability are comparable to or even surpass those of NVIDIA's offerings in certain aspects. For instance, a study found that Groq's LPU is faster than NVIDIA's A100 GPU in certain workloads. Furthermore, Groq's accelerators are designed to be more energy-efficient than NVIDIA's offerings, which is a critical factor in the deployment of LLMs at scale. Overall, the choice between Groq's AI accelerators and NVIDIA's offerings for LLM inference depends on the specific requirements of the application and the trade-offs between efficiency, scalability, and cost. \\n\\nCitations:\\n\\n[1]: https://www.linkedin.com/pulse/groq-3-ai-accelerator-thats-changing-game-like-never-before-lata-mkfwe\\n[2]: https://groq.com/news_press/groq-is-still-faster/\\n[3]: https://umatechnology.org/meet-groq-a-lightning-fast-ai-accelerator-that-beats-chatgpt-and-gemini/\\n[4]: https://medium.com/@cognidownunder/groqs-lpu-the-ai-accelerator-that-s-leaving-gpus-in-the-dust-bb6fff67a877\\n[5]: https://www.forbes.com/sites/karlfreund/2024/08/09/can-groq-really-take-on-nvidia/\\n[6]: https://manashaloi.medium.com/revolutionizing-ai-inference-how-groq-cerebras-and-sambanova-are-shaping-the-future-9dc1ffb74208\", additional_kwargs={}, response_metadata={}, name='Subject_Matter_Expert'), AIMessage(content=\"It sounds like Groq's AI accelerators are a promising solution for LLM inference, offering low latency, energy efficiency, and customization options. I'd like to explore the topic of Llama.cpp, which is a popular open-source LLM inference engine. Can you tell me more about how Groq's accelerators integrate with Llama.cpp, and if there are any specific optimizations or benefits that Groq's technology provides in this context?\", additional_kwargs={}, response_metadata={'token_usage': {'completion_tokens': 90, 'prompt_tokens': 827, 'total_tokens': 917, 'completion_time': 0.12, 'prompt_time': 0.024025468, 'queue_time': 0.237893011, 'total_time': 0.144025468}, 'model_name': 'llama-3.1-8b-instant', 'system_fingerprint': 'fp_076aab041c', 'finish_reason': 'stop', 'logprobs': None}, name='Jonathan Ross', id='run-456600d0-4ca6-456c-91fd-4718bc4d730c-0', usage_metadata={'input_tokens': 827, 'output_tokens': 90, 'total_tokens': 917}), AIMessage(content=\"Groq's AI accelerators, such as the LPU, can integrate with Llama.cpp to provide optimized LLM inference performance. Llama.cpp is a popular open-source LLM inference engine that can be optimized for Groq's LPU using various techniques, including code modifications and compiler optimizations. By leveraging the unique architecture of the LPU, Llama.cpp can achieve significant performance improvements, including lower latency and higher throughput. For instance, a study found that Llama.cpp can achieve a 2x speedup on the LPU compared to a traditional GPU. Additionally, the LPU's energy efficiency and customization options can provide further benefits when used with Llama.cpp. In terms of scalability, the LPU's ability to scale to thousands of chips can provide a significant advantage over traditional GPUs, allowing for the deployment of large-scale LLMs. However, the exact benefits and performance improvements will depend on the specific use case and requirements of the application. Overall, the integration of Groq's LPU with Llama.cpp can provide a powerful combination for LLM inference, offering optimized performance, energy efficiency, and scalability.\\n\\nCitations:\\n\\n[1]: https://www.groq.com/news_press/groq-llama-optimization/\\n[2]: https://medium.com/@cognidownunder/groqs-lpu-the-ai-accelerator-that-s-leaving-gpus-in-the-dust-bb6fff67a877\\n[3]: https://www.linkedin.com/pulse/groq-3-ai-accelerator-thats-changing-game-like-never-before-lata-mkfwe\", additional_kwargs={}, response_metadata={}, name='Subject_Matter_Expert')], 'references': {'https://www.linkedin.com/pulse/groq-3-ai-accelerator-thats-changing-game-like-never-before-lata-mkfwe': \"Groq-3 isn't just another AI accelerator; it's a rethink of how we handle compute for machine learning. With a unique architecture built for speed and efficiency, it's making AI models run ...\", 'https://groq.com/news_press/groq-is-still-faster/': 'About Groq. Groq® is a generative AI solutions company and the creator of the LPU™ Inference Engine, the fastest language processing accelerator on the market. It is architected from the ground up to achieve low latency, energy-efficient, and repeatable inference performance at scale. Customers rely on the LPU Inference Engine as an end-to ...', 'https://umatechnology.org/meet-groq-a-lightning-fast-ai-accelerator-that-beats-chatgpt-and-gemini/': \"One of Groq's strongest advantages is its ability to adapt to different workloads. While ChatGPT and Gemini are highly specialized AI systems, Groq's architecture allows for customization and flexibility in application. This means that developers can fine-tune Groq chips for specific tasks, ensuring optimal performance based on the situation.\", 'https://medium.com/@cognidownunder/groqs-lpu-the-ai-accelerator-that-s-leaving-gpus-in-the-dust-bb6fff67a877': \"Groq, a company founded by ex-Google engineers, has unveiled its Language Processing Unit (LPU) — a specialized AI accelerator that's not just keeping pace with the big boys, but sprinting ...\", 'https://www.forbes.com/sites/karlfreund/2024/08/09/can-groq-really-take-on-nvidia/': \"Groq LPU based systems provide very low latencies for LLM inference processing. ... Unlike AI GPU's from Nvidia and AMD, Groq uses on-chip SRAM, with 14GB of high bandwidth shared memory for ...\", 'https://manashaloi.medium.com/revolutionizing-ai-inference-how-groq-cerebras-and-sambanova-are-shaping-the-future-9dc1ffb74208': 'As it may require thousands of chips to even host an LLM of that size, Groq fails the scalability test. ... SambaNova comes in 2nd with 988 and Groq 3rd with 750. Traditional Nvidia hardware in Azure or AWS, are lagging way behind with less than 100 t/s while being significantly more expensive. ... In the high-stakes race for AI inference ...'}, 'editor': Editor(affiliation='Groq', name='Jonathan Ross', role='Co-Founder and CTO', description='Focus on designing and developing AI accelerators for large language models, with a focus on efficiency and scalability.')}]\n",
            "conduct_interviews\n",
            "--  {'topic': 'Groq, NVIDIA, Llamma.cpp and the future of LLM Inference', 'outline': Outline(page_title='Large Language Model Inference: A Comparative Analysis of Groq, NVIDIA, and Llama.cpp', sections=[Section(section_title='Background', description='Introduction to LLM Inference', subsections=[Subsect\n",
            "refine_outline\n",
            "--  {'topic': 'Groq, NVIDIA, Llamma.cpp and the future of LLM Inference', 'outline': Outline(page_title='Large Language Model Inference: A Comparative Analysis of Groq, NVIDIA, and Llama.cpp', sections=[Section(section_title='Background', description='Introduction to LLM Inference', subsections=[Subsect\n",
            "index_references\n",
            "--  {'topic': 'Groq, NVIDIA, Llamma.cpp and the future of LLM Inference', 'outline': Outline(page_title='Large Language Model Inference: A Comparative Analysis of Groq, NVIDIA, and Llama.cpp', sections=[Section(section_title='Background', description='Introduction to LLM Inference', subsections=[Subsect\n",
            "write_sections\n",
            "--  {'topic': 'Groq, NVIDIA, Llamma.cpp and the future of LLM Inference', 'outline': Outline(page_title='Large Language Model Inference: A Comparative Analysis of Groq, NVIDIA, and Llama.cpp', sections=[Section(section_title='Background', description='Introduction to LLM Inference', subsections=[Subsect\n",
            "write_article\n",
            "--  {'topic': 'Groq, NVIDIA, Llamma.cpp and the future of LLM Inference', 'outline': Outline(page_title='Large Language Model Inference: A Comparative Analysis of Groq, NVIDIA, and Llama.cpp', sections=[Section(section_title='Background', description='Introduction to LLM Inference', subsections=[Subsect\n"
          ]
        }
      ],
      "source": [
        "import asyncio\n",
        "\n",
        "async def process_storm():\n",
        "    config = {\"configurable\": {\"thread_id\": \"my-thread\"}}\n",
        "    async for step in storm.astream(\n",
        "        {\"topic\": \"Groq, NVIDIA, Llamma.cpp and the future of LLM Inference\"},\n",
        "        config\n",
        "    ):\n",
        "        name = next(iter(step))\n",
        "        print(name)\n",
        "        # Use the as_str property if step[name] is a Section or similar model.\n",
        "        if hasattr(step[name], \"as_str\"):\n",
        "            output = step[name].as_str\n",
        "        else:\n",
        "            output = str(step[name])\n",
        "        print(\"-- \", output[:300])\n",
        "        # Introduce a small delay to avoid spiking token usage simultaneously\n",
        "        await asyncio.sleep(0.5)\n",
        "    # Return config to make it accessible outside the function\n",
        "    return config\n",
        "\n",
        "config = await process_storm()  # Store the returned config\n"
      ]
    },
    {
      "cell_type": "code",
      "source": [
        "# Now you can access it later:\n",
        "checkpoint = storm.get_state(config)\n",
        "article = checkpoint.values[\"article\"]"
      ],
      "metadata": {
        "id": "hwuN0zzGc6E5"
      },
      "execution_count": null,
      "outputs": []
    },
    {
      "cell_type": "markdown",
      "source": [
        "# Render the Wiki\n",
        "\n",
        "Now we can render the final wiki page!"
      ],
      "metadata": {
        "id": "VBHFgcTyw7K2"
      }
    },
    {
      "cell_type": "code",
      "source": [
        "from IPython.display import Markdown\n",
        "\n",
        "# We will down-header the sections to create less confusion in this notebook\n",
        "Markdown(article.replace(\"\\n#\", \"\\n##\"))"
      ],
      "metadata": {
        "colab": {
          "base_uri": "https://localhost:8080/",
          "height": 1000
        },
        "id": "gksaydF5w9Sy",
        "outputId": "866f3f3d-399d-410f-fe37-edb17f864354"
      },
      "execution_count": null,
      "outputs": [
        {
          "output_type": "execute_result",
          "data": {
            "text/plain": [
              "<IPython.core.display.Markdown object>"
            ],
            "text/markdown": "# Large Language Model Inference\n================================\n\n### Background and Importance\n-----------------------------\n\nLarge language model (LLM) inference is a critical component of natural language processing (NLP) and artificial intelligence (AI) applications. It involves using a pre-trained language model to make predictions or generate text based on input data. In this field, researchers and developers face several challenges, including[1] high computational requirements, large memory needs, and the need for efficient and scalable solutions.\n\n### Key Players in LLM Inference\n-------------------------------\n\nThe key players in LLM inference are companies that have developed specialized hardware and software solutions to accelerate the processing of large language models. Some of the major players in this field are Groq, NVIDIA, and Llama.cpp.\n\n#### Groq\n------------\n\nGroq is a pioneering company in the field of LLM inference. Their LPU (Large Processing Unit) architecture is designed to provide high efficiency, low latency, and high throughput for AI and machine learning workloads. The LPU is a highly scalable and flexible architecture that can be easily integrated into various computing systems. Groq's LPU has been used in several applications, including LLM inference, computer vision, and natural language processing.[2]\n\n#### NVIDIA\n-------------\n\nNVIDIA is another major player in the field of LLM inference. Their GPUs (Graphics Processing Units) have been widely adopted for AI and machine learning applications, including LLM inference. NVIDIA's GPUs provide high performance and scalability, making them an attractive choice for researchers and developers. However, they can be power-hungry and expensive, which can limit their adoption in certain applications.[3]\n\n#### Llama.cpp\n--------------\n\nLlama.cpp is an open-source library for LLM inference. It is designed to provide a highly flexible and scalable framework for LLM inference, allowing researchers and developers to easily integrate their models into a wide range of applications. Llama.cpp has been used in several applications, including chatbots, language translation, and text generation.[4]\n\n### Performance Comparison\n---------------------------\n\nThe performance of LLM inference solutions from Groq, NVIDIA, and Llama.cpp has been compared in several studies. A study published in [5] compared the performance of Groq's LPU and NVIDIA's GPU for LLM inference. The study found that Groq's LPU provided higher throughput and lower latency than NVIDIA's GPU. Another study published in [6] compared the performance of Llama.cpp with NVIDIA's GPU for LLM inference. The study found that Llama.cpp provided higher performance and scalability than NVIDIA's GPU.\n\n| Company | Throughput (tflops) | Latency (ms) |\n| --- | --- | --- |\n| Groq | 100 | 10 |\n| NVIDIA | 50 | 20 |\n| Llama.cpp | 80 | 15 |\n\n### Future of LLM Inference\n---------------------------\n\nThe future of LLM inference is likely to be shaped by several emerging trends and technologies. These trends include the increasing adoption of specialized chip architectures, such as Groq's LPU, which are designed to provide high efficiency, low latency, and high throughput for AI and machine learning workloads. Additionally, the development of hybrid approaches, which combine the strengths of different architectures, such as Groq's LPUs with NVIDIA's GPUs and Llama.cpp, is expected to play a significant role in the future of LLM inference.\n\n#### Emerging Trends and Technologies\n--------------------------------------\n\nSeveral emerging trends and technologies are expected to shape the future of LLM inference. These include:\n\n* **Specialized Chip Architectures**: The development of specialized chip architectures, such as Groq's LPU, is expected to provide higher efficiency, lower latency, and higher throughput for AI and machine learning workloads.\n* **Hybrid Approaches**: The development of hybrid approaches, which combine the strengths of different architectures, is expected to provide higher performance and scalability for LLM inference.\n* **Quantization and Pruning**: The use of quantization and pruning techniques is expected to reduce the computational requirements of LLM inference, making it more efficient and scalable.\n\n### References\n-----------\n\n[1] Strub, F., et al. \"Large Language Models in 2022: A Survey.\" arXiv preprint arXiv:2206.03059 (2022).\n\n[2] Groq. \"LPU Architecture.\" Groq, 2022, [www.groq.com/lpu](http://www.groq.com/lpu).\n\n[3] NVIDIA. \"GPU Architecture.\" NVIDIA, 2022, [www.nvidia.com/gpu-architecture](http://www.nvidia.com/gpu-architecture).\n\n[4] Llama.cpp. \"Llama.cpp Library.\" Llama.cpp, 2022, [www.llvm.org/docs/Llama.cpp.html](http://www.llvm.org/docs/Llama.cpp.html).\n\n[5] Lee, J., et al. \"A Performance Comparison of Groq's LPU and NVIDIA's GPU for LLM Inference.\" arXiv preprint arXiv:2206.03060 (2022).\n\n[6] Kim, J., et al. \"A Comparison of Llama.cpp and NVIDIA's GPU for LLM Inference.\" arXiv preprint arXiv:2206.03061 (2022).\n\n[7] Strub, F., et al. \"Large Language Models in 2023: A Survey.\" arXiv preprint arXiv:2301.01111 (2023).\n\n[8] Groq. \"LPU Architecture.\" Groq, 2023, [www.groq.com/lpu](http://www.groq.com/lpu).\n\n[9] NVIDIA. \"GPU Architecture.\" NVIDIA, 2023, [www.nvidia.com/gpu-architecture](http://www.nvidia.com/gpu-architecture).\n\n[10] Llama.cpp. \"Llama.cpp Library.\" Llama.cpp, 2023, [www.llvm.org/docs/Llama.cpp.html](http://www.llvm.org/docs/Llama.cpp.html)."
          },
          "metadata": {},
          "execution_count": 97
        }
      ]
    }
  ],
  "metadata": {
    "accelerator": "GPU",
    "colab": {
      "gpuType": "T4",
      "provenance": [],
      "include_colab_link": true
    },
    "kernelspec": {
      "display_name": "Python 3",
      "name": "python3"
    },
    "language_info": {
      "name": "python"
    }
  },
  "nbformat": 4,
  "nbformat_minor": 0
}